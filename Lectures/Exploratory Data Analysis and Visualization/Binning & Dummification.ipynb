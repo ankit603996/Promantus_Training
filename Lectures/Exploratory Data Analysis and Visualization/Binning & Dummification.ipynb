{
 "cells": [
  {
   "cell_type": "code",
   "execution_count": 1,
   "id": "important-genealogy",
   "metadata": {},
   "outputs": [],
   "source": [
    "#Import necessary Libraries\n",
    "import pandas as pd"
   ]
  },
  {
   "cell_type": "code",
   "execution_count": 17,
   "id": "optical-maker",
   "metadata": {},
   "outputs": [],
   "source": [
    "# Read data\n",
    "df = pd.read_csv(r\"Income_Input.csv\")"
   ]
  },
  {
   "cell_type": "markdown",
   "id": "infectious-syntax",
   "metadata": {},
   "source": [
    "## Basic Sanity Checks"
   ]
  },
  {
   "cell_type": "code",
   "execution_count": 18,
   "id": "knowing-termination",
   "metadata": {},
   "outputs": [
    {
     "data": {
      "text/plain": [
       "(10000, 1)"
      ]
     },
     "execution_count": 18,
     "metadata": {},
     "output_type": "execute_result"
    }
   ],
   "source": [
    "df.shape"
   ]
  },
  {
   "cell_type": "code",
   "execution_count": 19,
   "id": "rough-spencer",
   "metadata": {
    "scrolled": true
   },
   "outputs": [
    {
     "data": {
      "text/html": [
       "<div>\n",
       "<style scoped>\n",
       "    .dataframe tbody tr th:only-of-type {\n",
       "        vertical-align: middle;\n",
       "    }\n",
       "\n",
       "    .dataframe tbody tr th {\n",
       "        vertical-align: top;\n",
       "    }\n",
       "\n",
       "    .dataframe thead th {\n",
       "        text-align: right;\n",
       "    }\n",
       "</style>\n",
       "<table border=\"1\" class=\"dataframe\">\n",
       "  <thead>\n",
       "    <tr style=\"text-align: right;\">\n",
       "      <th></th>\n",
       "      <th>Income($)</th>\n",
       "    </tr>\n",
       "  </thead>\n",
       "  <tbody>\n",
       "    <tr>\n",
       "      <th>0</th>\n",
       "      <td>48969</td>\n",
       "    </tr>\n",
       "    <tr>\n",
       "      <th>1</th>\n",
       "      <td>96432</td>\n",
       "    </tr>\n",
       "    <tr>\n",
       "      <th>2</th>\n",
       "      <td>11400</td>\n",
       "    </tr>\n",
       "    <tr>\n",
       "      <th>3</th>\n",
       "      <td>59341</td>\n",
       "    </tr>\n",
       "    <tr>\n",
       "      <th>4</th>\n",
       "      <td>91562</td>\n",
       "    </tr>\n",
       "  </tbody>\n",
       "</table>\n",
       "</div>"
      ],
      "text/plain": [
       "   Income($)\n",
       "0      48969\n",
       "1      96432\n",
       "2      11400\n",
       "3      59341\n",
       "4      91562"
      ]
     },
     "execution_count": 19,
     "metadata": {},
     "output_type": "execute_result"
    }
   ],
   "source": [
    "df.head(5)"
   ]
  },
  {
   "cell_type": "code",
   "execution_count": 21,
   "id": "peaceful-france",
   "metadata": {},
   "outputs": [
    {
     "name": "stdout",
     "output_type": "stream",
     "text": [
      "<class 'pandas.core.frame.DataFrame'>\n",
      "RangeIndex: 10000 entries, 0 to 9999\n",
      "Data columns (total 1 columns):\n",
      " #   Column     Non-Null Count  Dtype\n",
      "---  ------     --------------  -----\n",
      " 0   Income($)  10000 non-null  int64\n",
      "dtypes: int64(1)\n",
      "memory usage: 78.2 KB\n"
     ]
    }
   ],
   "source": [
    "df.info()"
   ]
  },
  {
   "cell_type": "markdown",
   "id": "transsexual-cookie",
   "metadata": {},
   "source": [
    "### Create a new column called \"Customer Category\" binning based on the Income"
   ]
  },
  {
   "cell_type": "code",
   "execution_count": 22,
   "id": "unique-upset",
   "metadata": {},
   "outputs": [],
   "source": [
    "df['Customer_Category'] = pd.cut(df['Income($)'], bins=[100, 10000, 30000, 50000, 100000], \\\n",
    "                                 labels= ['Low Spend', 'Medium Spend', 'High Spend', 'High Net Worth Customer'])"
   ]
  },
  {
   "cell_type": "code",
   "execution_count": 23,
   "id": "architectural-handbook",
   "metadata": {},
   "outputs": [
    {
     "data": {
      "text/html": [
       "<div>\n",
       "<style scoped>\n",
       "    .dataframe tbody tr th:only-of-type {\n",
       "        vertical-align: middle;\n",
       "    }\n",
       "\n",
       "    .dataframe tbody tr th {\n",
       "        vertical-align: top;\n",
       "    }\n",
       "\n",
       "    .dataframe thead th {\n",
       "        text-align: right;\n",
       "    }\n",
       "</style>\n",
       "<table border=\"1\" class=\"dataframe\">\n",
       "  <thead>\n",
       "    <tr style=\"text-align: right;\">\n",
       "      <th></th>\n",
       "      <th>Income($)</th>\n",
       "      <th>Customer_Category</th>\n",
       "    </tr>\n",
       "  </thead>\n",
       "  <tbody>\n",
       "    <tr>\n",
       "      <th>0</th>\n",
       "      <td>48969</td>\n",
       "      <td>High Spend</td>\n",
       "    </tr>\n",
       "    <tr>\n",
       "      <th>1</th>\n",
       "      <td>96432</td>\n",
       "      <td>High Net Worth Customer</td>\n",
       "    </tr>\n",
       "    <tr>\n",
       "      <th>2</th>\n",
       "      <td>11400</td>\n",
       "      <td>Medium Spend</td>\n",
       "    </tr>\n",
       "    <tr>\n",
       "      <th>3</th>\n",
       "      <td>59341</td>\n",
       "      <td>High Net Worth Customer</td>\n",
       "    </tr>\n",
       "    <tr>\n",
       "      <th>4</th>\n",
       "      <td>91562</td>\n",
       "      <td>High Net Worth Customer</td>\n",
       "    </tr>\n",
       "  </tbody>\n",
       "</table>\n",
       "</div>"
      ],
      "text/plain": [
       "   Income($)        Customer_Category\n",
       "0      48969               High Spend\n",
       "1      96432  High Net Worth Customer\n",
       "2      11400             Medium Spend\n",
       "3      59341  High Net Worth Customer\n",
       "4      91562  High Net Worth Customer"
      ]
     },
     "execution_count": 23,
     "metadata": {},
     "output_type": "execute_result"
    }
   ],
   "source": [
    "df.head()"
   ]
  },
  {
   "cell_type": "code",
   "execution_count": 24,
   "id": "social-traveler",
   "metadata": {},
   "outputs": [
    {
     "data": {
      "text/html": [
       "<div>\n",
       "<style scoped>\n",
       "    .dataframe tbody tr th:only-of-type {\n",
       "        vertical-align: middle;\n",
       "    }\n",
       "\n",
       "    .dataframe tbody tr th {\n",
       "        vertical-align: top;\n",
       "    }\n",
       "\n",
       "    .dataframe thead tr th {\n",
       "        text-align: left;\n",
       "    }\n",
       "\n",
       "    .dataframe thead tr:last-of-type th {\n",
       "        text-align: right;\n",
       "    }\n",
       "</style>\n",
       "<table border=\"1\" class=\"dataframe\">\n",
       "  <thead>\n",
       "    <tr>\n",
       "      <th></th>\n",
       "      <th colspan=\"3\" halign=\"left\">Income($)</th>\n",
       "    </tr>\n",
       "    <tr>\n",
       "      <th></th>\n",
       "      <th>max</th>\n",
       "      <th>min</th>\n",
       "      <th>mean</th>\n",
       "    </tr>\n",
       "    <tr>\n",
       "      <th>Customer_Category</th>\n",
       "      <th></th>\n",
       "      <th></th>\n",
       "      <th></th>\n",
       "    </tr>\n",
       "  </thead>\n",
       "  <tbody>\n",
       "    <tr>\n",
       "      <th>Low Spend</th>\n",
       "      <td>9995</td>\n",
       "      <td>103</td>\n",
       "      <td>5103.165503</td>\n",
       "    </tr>\n",
       "    <tr>\n",
       "      <th>Medium Spend</th>\n",
       "      <td>29989</td>\n",
       "      <td>10003</td>\n",
       "      <td>19936.146208</td>\n",
       "    </tr>\n",
       "    <tr>\n",
       "      <th>High Spend</th>\n",
       "      <td>49999</td>\n",
       "      <td>30007</td>\n",
       "      <td>40018.590864</td>\n",
       "    </tr>\n",
       "    <tr>\n",
       "      <th>High Net Worth Customer</th>\n",
       "      <td>99998</td>\n",
       "      <td>50003</td>\n",
       "      <td>74985.411219</td>\n",
       "    </tr>\n",
       "  </tbody>\n",
       "</table>\n",
       "</div>"
      ],
      "text/plain": [
       "                        Income($)                     \n",
       "                              max    min          mean\n",
       "Customer_Category                                     \n",
       "Low Spend                    9995    103   5103.165503\n",
       "Medium Spend                29989  10003  19936.146208\n",
       "High Spend                  49999  30007  40018.590864\n",
       "High Net Worth Customer     99998  50003  74985.411219"
      ]
     },
     "execution_count": 24,
     "metadata": {},
     "output_type": "execute_result"
    }
   ],
   "source": [
    "df.groupby('Customer_Category').agg({'Income($)': ['max', 'min', 'mean']})"
   ]
  },
  {
   "cell_type": "markdown",
   "id": "hollow-knitting",
   "metadata": {},
   "source": [
    "### Binning based on the percentile of the data"
   ]
  },
  {
   "cell_type": "code",
   "execution_count": 25,
   "id": "needed-dream",
   "metadata": {},
   "outputs": [
    {
     "data": {
      "text/plain": [
       "0.00      100.00\n",
       "0.20    19769.80\n",
       "0.50    49601.50\n",
       "0.95    94882.05\n",
       "1.00    99998.00\n",
       "Name: Income($), dtype: float64"
      ]
     },
     "execution_count": 25,
     "metadata": {},
     "output_type": "execute_result"
    }
   ],
   "source": [
    "quantile_incomerange = df['Income($)'].quantile([0, 0.2, 0.5, 0.95, 1])\n",
    "quantile_incomerange"
   ]
  },
  {
   "cell_type": "code",
   "execution_count": 26,
   "id": "usual-honor",
   "metadata": {},
   "outputs": [
    {
     "data": {
      "text/plain": [
       "[100.0, 19769.800000000003, 49601.5, 94882.04999999999, 99998.0]"
      ]
     },
     "execution_count": 26,
     "metadata": {},
     "output_type": "execute_result"
    }
   ],
   "source": [
    "incomerange = list(quantile_incomerange.values)\n",
    "incomerange"
   ]
  },
  {
   "cell_type": "code",
   "execution_count": 27,
   "id": "diagnostic-paradise",
   "metadata": {},
   "outputs": [],
   "source": [
    "df['Percentile_based_category'] = pd.cut(df['Income($)'], bins=incomerange, \n",
    "                                         labels=['Lower Band', 'Medium Band', 'Upper Band', 'Top 5 Percentile'])"
   ]
  },
  {
   "cell_type": "markdown",
   "id": "dimensional-sally",
   "metadata": {},
   "source": [
    "### View the df after the addition of new column"
   ]
  },
  {
   "cell_type": "code",
   "execution_count": 28,
   "id": "earlier-hands",
   "metadata": {},
   "outputs": [
    {
     "data": {
      "text/html": [
       "<div>\n",
       "<style scoped>\n",
       "    .dataframe tbody tr th:only-of-type {\n",
       "        vertical-align: middle;\n",
       "    }\n",
       "\n",
       "    .dataframe tbody tr th {\n",
       "        vertical-align: top;\n",
       "    }\n",
       "\n",
       "    .dataframe thead th {\n",
       "        text-align: right;\n",
       "    }\n",
       "</style>\n",
       "<table border=\"1\" class=\"dataframe\">\n",
       "  <thead>\n",
       "    <tr style=\"text-align: right;\">\n",
       "      <th></th>\n",
       "      <th>Income($)</th>\n",
       "      <th>Customer_Category</th>\n",
       "      <th>Percentile_based_category</th>\n",
       "    </tr>\n",
       "  </thead>\n",
       "  <tbody>\n",
       "    <tr>\n",
       "      <th>0</th>\n",
       "      <td>48969</td>\n",
       "      <td>High Spend</td>\n",
       "      <td>Medium Band</td>\n",
       "    </tr>\n",
       "    <tr>\n",
       "      <th>1</th>\n",
       "      <td>96432</td>\n",
       "      <td>High Net Worth Customer</td>\n",
       "      <td>Top 5 Percentile</td>\n",
       "    </tr>\n",
       "    <tr>\n",
       "      <th>2</th>\n",
       "      <td>11400</td>\n",
       "      <td>Medium Spend</td>\n",
       "      <td>Lower Band</td>\n",
       "    </tr>\n",
       "    <tr>\n",
       "      <th>3</th>\n",
       "      <td>59341</td>\n",
       "      <td>High Net Worth Customer</td>\n",
       "      <td>Upper Band</td>\n",
       "    </tr>\n",
       "    <tr>\n",
       "      <th>4</th>\n",
       "      <td>91562</td>\n",
       "      <td>High Net Worth Customer</td>\n",
       "      <td>Upper Band</td>\n",
       "    </tr>\n",
       "  </tbody>\n",
       "</table>\n",
       "</div>"
      ],
      "text/plain": [
       "   Income($)        Customer_Category Percentile_based_category\n",
       "0      48969               High Spend               Medium Band\n",
       "1      96432  High Net Worth Customer          Top 5 Percentile\n",
       "2      11400             Medium Spend                Lower Band\n",
       "3      59341  High Net Worth Customer                Upper Band\n",
       "4      91562  High Net Worth Customer                Upper Band"
      ]
     },
     "execution_count": 28,
     "metadata": {},
     "output_type": "execute_result"
    }
   ],
   "source": [
    "df.head()"
   ]
  },
  {
   "cell_type": "markdown",
   "id": "reasonable-portugal",
   "metadata": {},
   "source": [
    "### New Group By"
   ]
  },
  {
   "cell_type": "code",
   "execution_count": 29,
   "id": "exceptional-blade",
   "metadata": {},
   "outputs": [
    {
     "data": {
      "text/html": [
       "<div>\n",
       "<style scoped>\n",
       "    .dataframe tbody tr th:only-of-type {\n",
       "        vertical-align: middle;\n",
       "    }\n",
       "\n",
       "    .dataframe tbody tr th {\n",
       "        vertical-align: top;\n",
       "    }\n",
       "\n",
       "    .dataframe thead tr th {\n",
       "        text-align: left;\n",
       "    }\n",
       "\n",
       "    .dataframe thead tr:last-of-type th {\n",
       "        text-align: right;\n",
       "    }\n",
       "</style>\n",
       "<table border=\"1\" class=\"dataframe\">\n",
       "  <thead>\n",
       "    <tr>\n",
       "      <th></th>\n",
       "      <th colspan=\"3\" halign=\"left\">Income($)</th>\n",
       "    </tr>\n",
       "    <tr>\n",
       "      <th></th>\n",
       "      <th>min</th>\n",
       "      <th>max</th>\n",
       "      <th>mean</th>\n",
       "    </tr>\n",
       "    <tr>\n",
       "      <th>Percentile_based_category</th>\n",
       "      <th></th>\n",
       "      <th></th>\n",
       "      <th></th>\n",
       "    </tr>\n",
       "  </thead>\n",
       "  <tbody>\n",
       "    <tr>\n",
       "      <th>Lower Band</th>\n",
       "      <td>103</td>\n",
       "      <td>19765</td>\n",
       "      <td>9982.985493</td>\n",
       "    </tr>\n",
       "    <tr>\n",
       "      <th>Medium Band</th>\n",
       "      <td>19771</td>\n",
       "      <td>49601</td>\n",
       "      <td>34800.238667</td>\n",
       "    </tr>\n",
       "    <tr>\n",
       "      <th>Upper Band</th>\n",
       "      <td>49602</td>\n",
       "      <td>94882</td>\n",
       "      <td>72234.785333</td>\n",
       "    </tr>\n",
       "    <tr>\n",
       "      <th>Top 5 Percentile</th>\n",
       "      <td>94883</td>\n",
       "      <td>99998</td>\n",
       "      <td>97525.646000</td>\n",
       "    </tr>\n",
       "  </tbody>\n",
       "</table>\n",
       "</div>"
      ],
      "text/plain": [
       "                          Income($)                     \n",
       "                                min    max          mean\n",
       "Percentile_based_category                               \n",
       "Lower Band                      103  19765   9982.985493\n",
       "Medium Band                   19771  49601  34800.238667\n",
       "Upper Band                    49602  94882  72234.785333\n",
       "Top 5 Percentile              94883  99998  97525.646000"
      ]
     },
     "execution_count": 29,
     "metadata": {},
     "output_type": "execute_result"
    }
   ],
   "source": [
    "df.groupby('Percentile_based_category').agg({'Income($)': ['min', 'max', 'mean']})"
   ]
  },
  {
   "cell_type": "markdown",
   "id": "employed-teacher",
   "metadata": {},
   "source": [
    "# Dummification of Data"
   ]
  },
  {
   "cell_type": "code",
   "execution_count": 30,
   "id": "green-sudan",
   "metadata": {},
   "outputs": [
    {
     "data": {
      "text/plain": [
       "['High Spend', 'High Net Worth Customer', 'Medium Spend', 'Low Spend', NaN]\n",
       "Categories (4, object): ['Low Spend' < 'Medium Spend' < 'High Spend' < 'High Net Worth Customer']"
      ]
     },
     "execution_count": 30,
     "metadata": {},
     "output_type": "execute_result"
    }
   ],
   "source": [
    "df['Customer_Category'].unique()"
   ]
  },
  {
   "cell_type": "code",
   "execution_count": 31,
   "id": "grave-short",
   "metadata": {},
   "outputs": [
    {
     "data": {
      "text/plain": [
       "High Net Worth Customer    4956\n",
       "High Spend                 2036\n",
       "Medium Spend               2004\n",
       "Low Spend                  1003\n",
       "Name: Customer_Category, dtype: int64"
      ]
     },
     "execution_count": 31,
     "metadata": {},
     "output_type": "execute_result"
    }
   ],
   "source": [
    "df['Customer_Category'].value_counts()"
   ]
  },
  {
   "cell_type": "code",
   "execution_count": 33,
   "id": "italian-ministry",
   "metadata": {},
   "outputs": [],
   "source": [
    "dummy = pd.get_dummies(df['Customer_Category'])"
   ]
  },
  {
   "cell_type": "code",
   "execution_count": 34,
   "id": "light-powell",
   "metadata": {},
   "outputs": [
    {
     "data": {
      "text/html": [
       "<div>\n",
       "<style scoped>\n",
       "    .dataframe tbody tr th:only-of-type {\n",
       "        vertical-align: middle;\n",
       "    }\n",
       "\n",
       "    .dataframe tbody tr th {\n",
       "        vertical-align: top;\n",
       "    }\n",
       "\n",
       "    .dataframe thead th {\n",
       "        text-align: right;\n",
       "    }\n",
       "</style>\n",
       "<table border=\"1\" class=\"dataframe\">\n",
       "  <thead>\n",
       "    <tr style=\"text-align: right;\">\n",
       "      <th></th>\n",
       "      <th>Low Spend</th>\n",
       "      <th>Medium Spend</th>\n",
       "      <th>High Spend</th>\n",
       "      <th>High Net Worth Customer</th>\n",
       "    </tr>\n",
       "  </thead>\n",
       "  <tbody>\n",
       "    <tr>\n",
       "      <th>0</th>\n",
       "      <td>0</td>\n",
       "      <td>0</td>\n",
       "      <td>1</td>\n",
       "      <td>0</td>\n",
       "    </tr>\n",
       "    <tr>\n",
       "      <th>1</th>\n",
       "      <td>0</td>\n",
       "      <td>0</td>\n",
       "      <td>0</td>\n",
       "      <td>1</td>\n",
       "    </tr>\n",
       "    <tr>\n",
       "      <th>2</th>\n",
       "      <td>0</td>\n",
       "      <td>1</td>\n",
       "      <td>0</td>\n",
       "      <td>0</td>\n",
       "    </tr>\n",
       "    <tr>\n",
       "      <th>3</th>\n",
       "      <td>0</td>\n",
       "      <td>0</td>\n",
       "      <td>0</td>\n",
       "      <td>1</td>\n",
       "    </tr>\n",
       "    <tr>\n",
       "      <th>4</th>\n",
       "      <td>0</td>\n",
       "      <td>0</td>\n",
       "      <td>0</td>\n",
       "      <td>1</td>\n",
       "    </tr>\n",
       "    <tr>\n",
       "      <th>...</th>\n",
       "      <td>...</td>\n",
       "      <td>...</td>\n",
       "      <td>...</td>\n",
       "      <td>...</td>\n",
       "    </tr>\n",
       "    <tr>\n",
       "      <th>9995</th>\n",
       "      <td>0</td>\n",
       "      <td>1</td>\n",
       "      <td>0</td>\n",
       "      <td>0</td>\n",
       "    </tr>\n",
       "    <tr>\n",
       "      <th>9996</th>\n",
       "      <td>0</td>\n",
       "      <td>0</td>\n",
       "      <td>0</td>\n",
       "      <td>1</td>\n",
       "    </tr>\n",
       "    <tr>\n",
       "      <th>9997</th>\n",
       "      <td>0</td>\n",
       "      <td>0</td>\n",
       "      <td>0</td>\n",
       "      <td>1</td>\n",
       "    </tr>\n",
       "    <tr>\n",
       "      <th>9998</th>\n",
       "      <td>0</td>\n",
       "      <td>1</td>\n",
       "      <td>0</td>\n",
       "      <td>0</td>\n",
       "    </tr>\n",
       "    <tr>\n",
       "      <th>9999</th>\n",
       "      <td>1</td>\n",
       "      <td>0</td>\n",
       "      <td>0</td>\n",
       "      <td>0</td>\n",
       "    </tr>\n",
       "  </tbody>\n",
       "</table>\n",
       "<p>10000 rows × 4 columns</p>\n",
       "</div>"
      ],
      "text/plain": [
       "      Low Spend  Medium Spend  High Spend  High Net Worth Customer\n",
       "0             0             0           1                        0\n",
       "1             0             0           0                        1\n",
       "2             0             1           0                        0\n",
       "3             0             0           0                        1\n",
       "4             0             0           0                        1\n",
       "...         ...           ...         ...                      ...\n",
       "9995          0             1           0                        0\n",
       "9996          0             0           0                        1\n",
       "9997          0             0           0                        1\n",
       "9998          0             1           0                        0\n",
       "9999          1             0           0                        0\n",
       "\n",
       "[10000 rows x 4 columns]"
      ]
     },
     "execution_count": 34,
     "metadata": {},
     "output_type": "execute_result"
    }
   ],
   "source": [
    "dummy"
   ]
  },
  {
   "cell_type": "code",
   "execution_count": 35,
   "id": "democratic-addiction",
   "metadata": {},
   "outputs": [],
   "source": [
    "df[['Low Spend', 'Medium Spend', 'High Spend', 'High Net Worth Customer']] = dummy"
   ]
  },
  {
   "cell_type": "code",
   "execution_count": 36,
   "id": "original-shuttle",
   "metadata": {},
   "outputs": [
    {
     "data": {
      "text/html": [
       "<div>\n",
       "<style scoped>\n",
       "    .dataframe tbody tr th:only-of-type {\n",
       "        vertical-align: middle;\n",
       "    }\n",
       "\n",
       "    .dataframe tbody tr th {\n",
       "        vertical-align: top;\n",
       "    }\n",
       "\n",
       "    .dataframe thead th {\n",
       "        text-align: right;\n",
       "    }\n",
       "</style>\n",
       "<table border=\"1\" class=\"dataframe\">\n",
       "  <thead>\n",
       "    <tr style=\"text-align: right;\">\n",
       "      <th></th>\n",
       "      <th>Income($)</th>\n",
       "      <th>Customer_Category</th>\n",
       "      <th>Percentile_based_category</th>\n",
       "      <th>Low Spend</th>\n",
       "      <th>Medium Spend</th>\n",
       "      <th>High Spend</th>\n",
       "      <th>High Net Worth Customer</th>\n",
       "    </tr>\n",
       "  </thead>\n",
       "  <tbody>\n",
       "    <tr>\n",
       "      <th>0</th>\n",
       "      <td>48969</td>\n",
       "      <td>High Spend</td>\n",
       "      <td>Medium Band</td>\n",
       "      <td>0</td>\n",
       "      <td>0</td>\n",
       "      <td>1</td>\n",
       "      <td>0</td>\n",
       "    </tr>\n",
       "    <tr>\n",
       "      <th>1</th>\n",
       "      <td>96432</td>\n",
       "      <td>High Net Worth Customer</td>\n",
       "      <td>Top 5 Percentile</td>\n",
       "      <td>0</td>\n",
       "      <td>0</td>\n",
       "      <td>0</td>\n",
       "      <td>1</td>\n",
       "    </tr>\n",
       "    <tr>\n",
       "      <th>2</th>\n",
       "      <td>11400</td>\n",
       "      <td>Medium Spend</td>\n",
       "      <td>Lower Band</td>\n",
       "      <td>0</td>\n",
       "      <td>1</td>\n",
       "      <td>0</td>\n",
       "      <td>0</td>\n",
       "    </tr>\n",
       "    <tr>\n",
       "      <th>3</th>\n",
       "      <td>59341</td>\n",
       "      <td>High Net Worth Customer</td>\n",
       "      <td>Upper Band</td>\n",
       "      <td>0</td>\n",
       "      <td>0</td>\n",
       "      <td>0</td>\n",
       "      <td>1</td>\n",
       "    </tr>\n",
       "    <tr>\n",
       "      <th>4</th>\n",
       "      <td>91562</td>\n",
       "      <td>High Net Worth Customer</td>\n",
       "      <td>Upper Band</td>\n",
       "      <td>0</td>\n",
       "      <td>0</td>\n",
       "      <td>0</td>\n",
       "      <td>1</td>\n",
       "    </tr>\n",
       "  </tbody>\n",
       "</table>\n",
       "</div>"
      ],
      "text/plain": [
       "   Income($)        Customer_Category Percentile_based_category  Low Spend  \\\n",
       "0      48969               High Spend               Medium Band          0   \n",
       "1      96432  High Net Worth Customer          Top 5 Percentile          0   \n",
       "2      11400             Medium Spend                Lower Band          0   \n",
       "3      59341  High Net Worth Customer                Upper Band          0   \n",
       "4      91562  High Net Worth Customer                Upper Band          0   \n",
       "\n",
       "   Medium Spend  High Spend  High Net Worth Customer  \n",
       "0             0           1                        0  \n",
       "1             0           0                        1  \n",
       "2             1           0                        0  \n",
       "3             0           0                        1  \n",
       "4             0           0                        1  "
      ]
     },
     "execution_count": 36,
     "metadata": {},
     "output_type": "execute_result"
    }
   ],
   "source": [
    "df.head()"
   ]
  },
  {
   "cell_type": "markdown",
   "id": "intermediate-exercise",
   "metadata": {},
   "source": [
    "## Logical checks post dummification"
   ]
  },
  {
   "cell_type": "code",
   "execution_count": 37,
   "id": "assisted-people",
   "metadata": {},
   "outputs": [
    {
     "data": {
      "text/plain": [
       "High Net Worth Customer    4956\n",
       "High Spend                 2036\n",
       "Medium Spend               2004\n",
       "Low Spend                  1003\n",
       "Name: Customer_Category, dtype: int64"
      ]
     },
     "execution_count": 37,
     "metadata": {},
     "output_type": "execute_result"
    }
   ],
   "source": [
    "df['Customer_Category'].value_counts()"
   ]
  },
  {
   "cell_type": "code",
   "execution_count": 38,
   "id": "extraordinary-latex",
   "metadata": {},
   "outputs": [
    {
     "name": "stdout",
     "output_type": "stream",
     "text": [
      "Low Spend 1003\n",
      "Medium Spend 2004\n",
      "High Spend 2036\n",
      "High Net Worth Customer 4956\n"
     ]
    }
   ],
   "source": [
    "print(\"Low Spend\", df['Low Spend'].sum())\n",
    "print(\"Medium Spend\", df['Medium Spend'].sum())\n",
    "print(\"High Spend\", df['High Spend'].sum())\n",
    "print(\"High Net Worth Customer\", df['High Net Worth Customer'].sum())"
   ]
  }
 ],
 "metadata": {
  "kernelspec": {
   "display_name": "Python [conda env:py37]",
   "language": "python",
   "name": "conda-env-py37-py"
  },
  "language_info": {
   "codemirror_mode": {
    "name": "ipython",
    "version": 3
   },
   "file_extension": ".py",
   "mimetype": "text/x-python",
   "name": "python",
   "nbconvert_exporter": "python",
   "pygments_lexer": "ipython3",
   "version": "3.7.10"
  }
 },
 "nbformat": 4,
 "nbformat_minor": 5
}
