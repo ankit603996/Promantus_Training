{
 "cells": [
  {
   "cell_type": "markdown",
   "metadata": {},
   "source": [
    "**Index**\n",
    "\n",
    "1. Enviornment Setup\n",
    "2. Data Snapshot\n",
    "3. Missing Value Treatment\n",
    "4. Feature Transformation\n",
    "5. Feature Selection\n",
    "6. Training and Validation of logit model using statsmodel\n",
    "7. Training and Validation of logit model using sklearn with different values of regularization parameter"
   ]
  },
  {
   "cell_type": "markdown",
   "metadata": {},
   "source": [
    "### Environment Setup"
   ]
  },
  {
   "cell_type": "code",
   "execution_count": 1,
   "metadata": {},
   "outputs": [],
   "source": [
    "# Import Libraries required for the experiment\n",
    "from sklearn import datasets\n",
    "from sklearn import metrics\n",
    "from sklearn.ensemble import ExtraTreesClassifier\n",
    "from sklearn.preprocessing import LabelEncoder\n",
    "import pandas as pd\n",
    "import numpy as np\n",
    "import matplotlib.pyplot as plt\n",
    "import numpy as np\n",
    "from sklearn.preprocessing import QuantileTransformer,MinMaxScaler,RobustScaler,StandardScaler\n",
    "import random\n",
    "import os\n",
    "import seaborn as sns\n",
    "from sklearn import datasets\n",
    "from sklearn import metrics\n",
    "from sklearn.ensemble import ExtraTreesClassifier, ExtraTreesRegressor\n",
    "from sklearn.tree import DecisionTreeClassifier ,DecisionTreeRegressor\n",
    "from sklearn.model_selection import train_test_split\n",
    "from sklearn.linear_model import LogisticRegression\n",
    "from sklearn.metrics import classification_report, confusion_matrix\n",
    "from sklearn.feature_selection import RFE\n",
    "np.random.seed(132)\n"
   ]
  },
  {
   "cell_type": "code",
   "execution_count": 2,
   "metadata": {},
   "outputs": [
    {
     "data": {
      "text/plain": [
       "'C:\\\\Users\\\\ankit\\\\Teaching with Vijay\\\\Logistic Regression'"
      ]
     },
     "execution_count": 2,
     "metadata": {},
     "output_type": "execute_result"
    }
   ],
   "source": [
    "os.getcwd()"
   ]
  },
  {
   "cell_type": "code",
   "execution_count": 3,
   "metadata": {},
   "outputs": [],
   "source": [
    "\n",
    "# Initiate Encoders which will be used for Categorical Variables\n",
    "label_encoder = LabelEncoder()\n",
    "\n",
    "# Prints all line without skipping\n",
    "pd.set_option('display.max_rows', None)\n",
    "# Prints all line without skipping\n",
    "pd.set_option('display.max_columns', None)\n"
   ]
  },
  {
   "cell_type": "markdown",
   "metadata": {},
   "source": [
    "### Data Snapshot"
   ]
  },
  {
   "cell_type": "code",
   "execution_count": 4,
   "metadata": {},
   "outputs": [
    {
     "data": {
      "text/html": [
       "<div>\n",
       "<style scoped>\n",
       "    .dataframe tbody tr th:only-of-type {\n",
       "        vertical-align: middle;\n",
       "    }\n",
       "\n",
       "    .dataframe tbody tr th {\n",
       "        vertical-align: top;\n",
       "    }\n",
       "\n",
       "    .dataframe thead th {\n",
       "        text-align: right;\n",
       "    }\n",
       "</style>\n",
       "<table border=\"1\" class=\"dataframe\">\n",
       "  <thead>\n",
       "    <tr style=\"text-align: right;\">\n",
       "      <th></th>\n",
       "      <th>CID</th>\n",
       "      <th>gender</th>\n",
       "      <th>Senior_Citizen</th>\n",
       "      <th>Marrital_Status</th>\n",
       "      <th>No_Dependent</th>\n",
       "      <th>MonthSinceJoining</th>\n",
       "      <th>Service_Phone</th>\n",
       "      <th>Morethan1Connection</th>\n",
       "      <th>Internet_Service</th>\n",
       "      <th>Security_Deposit</th>\n",
       "      <th>Device_Insurance</th>\n",
       "      <th>TechnicalSupport</th>\n",
       "      <th>LiveTVService</th>\n",
       "      <th>MovieAccount</th>\n",
       "      <th>TypeOfContract</th>\n",
       "      <th>Ebill</th>\n",
       "      <th>MethodOfPayment</th>\n",
       "      <th>AverageMonthlyCharge</th>\n",
       "      <th>TotalChargesTillDate</th>\n",
       "      <th>Churn</th>\n",
       "    </tr>\n",
       "  </thead>\n",
       "  <tbody>\n",
       "    <tr>\n",
       "      <th>0</th>\n",
       "      <td>74701_9</td>\n",
       "      <td>female</td>\n",
       "      <td>0</td>\n",
       "      <td>Yes</td>\n",
       "      <td>2</td>\n",
       "      <td>1</td>\n",
       "      <td>No</td>\n",
       "      <td>No phone service</td>\n",
       "      <td>DSL</td>\n",
       "      <td>No</td>\n",
       "      <td>No</td>\n",
       "      <td>No</td>\n",
       "      <td>No</td>\n",
       "      <td>No</td>\n",
       "      <td>monthly</td>\n",
       "      <td>Yes</td>\n",
       "      <td>Electronic check</td>\n",
       "      <td>30</td>\n",
       "      <td>30</td>\n",
       "      <td>No</td>\n",
       "    </tr>\n",
       "    <tr>\n",
       "      <th>1</th>\n",
       "      <td>77178_10</td>\n",
       "      <td>male</td>\n",
       "      <td>0</td>\n",
       "      <td>No</td>\n",
       "      <td>1</td>\n",
       "      <td>40</td>\n",
       "      <td>Yes</td>\n",
       "      <td>No</td>\n",
       "      <td>DSL</td>\n",
       "      <td>Yes</td>\n",
       "      <td>Yes</td>\n",
       "      <td>No</td>\n",
       "      <td>No</td>\n",
       "      <td>No</td>\n",
       "      <td>One year</td>\n",
       "      <td>No</td>\n",
       "      <td>Mailed check</td>\n",
       "      <td>57</td>\n",
       "      <td>1890</td>\n",
       "      <td>No</td>\n",
       "    </tr>\n",
       "    <tr>\n",
       "      <th>2</th>\n",
       "      <td>80082_3</td>\n",
       "      <td>f</td>\n",
       "      <td>0</td>\n",
       "      <td>No</td>\n",
       "      <td>0</td>\n",
       "      <td>39</td>\n",
       "      <td>Yes</td>\n",
       "      <td>No</td>\n",
       "      <td>DSL</td>\n",
       "      <td>Yes</td>\n",
       "      <td>No</td>\n",
       "      <td>No</td>\n",
       "      <td>No</td>\n",
       "      <td>No</td>\n",
       "      <td>monthly</td>\n",
       "      <td>Yes</td>\n",
       "      <td>Mailed check</td>\n",
       "      <td>54</td>\n",
       "      <td>108</td>\n",
       "      <td>Yes</td>\n",
       "    </tr>\n",
       "    <tr>\n",
       "      <th>3</th>\n",
       "      <td>82841_1</td>\n",
       "      <td>male</td>\n",
       "      <td>0</td>\n",
       "      <td>No</td>\n",
       "      <td>2</td>\n",
       "      <td>13</td>\n",
       "      <td>No</td>\n",
       "      <td>No phone service</td>\n",
       "      <td>DSL</td>\n",
       "      <td>Yes</td>\n",
       "      <td>Yes</td>\n",
       "      <td>Yes</td>\n",
       "      <td>No</td>\n",
       "      <td>No</td>\n",
       "      <td>One year</td>\n",
       "      <td>No</td>\n",
       "      <td>Bank transfer (automatic)</td>\n",
       "      <td>42</td>\n",
       "      <td>1841</td>\n",
       "      <td>No</td>\n",
       "    </tr>\n",
       "    <tr>\n",
       "      <th>4</th>\n",
       "      <td>73151_3</td>\n",
       "      <td>f</td>\n",
       "      <td>0</td>\n",
       "      <td>No</td>\n",
       "      <td>1</td>\n",
       "      <td>9</td>\n",
       "      <td>Yes</td>\n",
       "      <td>No</td>\n",
       "      <td>Fiber optic</td>\n",
       "      <td>No</td>\n",
       "      <td>No</td>\n",
       "      <td>No</td>\n",
       "      <td>No</td>\n",
       "      <td>No</td>\n",
       "      <td>monthly</td>\n",
       "      <td>Yes</td>\n",
       "      <td>Electronic check</td>\n",
       "      <td>71</td>\n",
       "      <td>152</td>\n",
       "      <td>Yes</td>\n",
       "    </tr>\n",
       "  </tbody>\n",
       "</table>\n",
       "</div>"
      ],
      "text/plain": [
       "        CID  gender  Senior_Citizen Marrital_Status  No_Dependent  \\\n",
       "0   74701_9  female               0             Yes             2   \n",
       "1  77178_10    male               0              No             1   \n",
       "2   80082_3       f               0              No             0   \n",
       "3   82841_1    male               0              No             2   \n",
       "4   73151_3       f               0              No             1   \n",
       "\n",
       "   MonthSinceJoining Service_Phone Morethan1Connection Internet_Service  \\\n",
       "0                  1            No    No phone service              DSL   \n",
       "1                 40           Yes                  No              DSL   \n",
       "2                 39           Yes                  No              DSL   \n",
       "3                 13            No    No phone service              DSL   \n",
       "4                  9           Yes                  No      Fiber optic   \n",
       "\n",
       "  Security_Deposit Device_Insurance TechnicalSupport LiveTVService  \\\n",
       "0               No               No               No            No   \n",
       "1              Yes              Yes               No            No   \n",
       "2              Yes               No               No            No   \n",
       "3              Yes              Yes              Yes            No   \n",
       "4               No               No               No            No   \n",
       "\n",
       "  MovieAccount TypeOfContract Ebill            MethodOfPayment  \\\n",
       "0           No        monthly   Yes           Electronic check   \n",
       "1           No       One year    No               Mailed check   \n",
       "2           No        monthly   Yes               Mailed check   \n",
       "3           No       One year    No  Bank transfer (automatic)   \n",
       "4           No        monthly   Yes           Electronic check   \n",
       "\n",
       "   AverageMonthlyCharge  TotalChargesTillDate Churn  \n",
       "0                    30                    30    No  \n",
       "1                    57                  1890    No  \n",
       "2                    54                   108   Yes  \n",
       "3                    42                  1841    No  \n",
       "4                    71                   152   Yes  "
      ]
     },
     "execution_count": 4,
     "metadata": {},
     "output_type": "execute_result"
    }
   ],
   "source": [
    "\n",
    "# load the raw input dataset\n",
    "churn=pd.read_csv('C:\\\\Users\\\\ankit\\\\Teaching with Vijay\\\\Logistic Regression\\\\DataChurn.csv')\n",
    "churn.head()"
   ]
  },
  {
   "cell_type": "code",
   "execution_count": 5,
   "metadata": {},
   "outputs": [
    {
     "name": "stdout",
     "output_type": "stream",
     "text": [
      "<class 'pandas.core.frame.DataFrame'>\n",
      "RangeIndex: 13189 entries, 0 to 13188\n",
      "Data columns (total 20 columns):\n",
      " #   Column                Non-Null Count  Dtype \n",
      "---  ------                --------------  ----- \n",
      " 0   CID                   13189 non-null  object\n",
      " 1   gender                12288 non-null  object\n",
      " 2   Senior_Citizen        13189 non-null  int64 \n",
      " 3   Marrital_Status       13189 non-null  object\n",
      " 4   No_Dependent          13189 non-null  int64 \n",
      " 5   MonthSinceJoining     13189 non-null  int64 \n",
      " 6   Service_Phone         13189 non-null  object\n",
      " 7   Morethan1Connection   13189 non-null  object\n",
      " 8   Internet_Service      13189 non-null  object\n",
      " 9   Security_Deposit      13189 non-null  object\n",
      " 10  Device_Insurance      13189 non-null  object\n",
      " 11  TechnicalSupport      13189 non-null  object\n",
      " 12  LiveTVService         13189 non-null  object\n",
      " 13  MovieAccount          13189 non-null  object\n",
      " 14  TypeOfContract        13189 non-null  object\n",
      " 15  Ebill                 13189 non-null  object\n",
      " 16  MethodOfPayment       13189 non-null  object\n",
      " 17  AverageMonthlyCharge  13189 non-null  int64 \n",
      " 18  TotalChargesTillDate  13189 non-null  int64 \n",
      " 19  Churn                 13189 non-null  object\n",
      "dtypes: int64(5), object(15)\n",
      "memory usage: 2.0+ MB\n"
     ]
    }
   ],
   "source": [
    "churn.info()"
   ]
  },
  {
   "cell_type": "code",
   "execution_count": 6,
   "metadata": {},
   "outputs": [
    {
     "data": {
      "text/html": [
       "<div>\n",
       "<style scoped>\n",
       "    .dataframe tbody tr th:only-of-type {\n",
       "        vertical-align: middle;\n",
       "    }\n",
       "\n",
       "    .dataframe tbody tr th {\n",
       "        vertical-align: top;\n",
       "    }\n",
       "\n",
       "    .dataframe thead th {\n",
       "        text-align: right;\n",
       "    }\n",
       "</style>\n",
       "<table border=\"1\" class=\"dataframe\">\n",
       "  <thead>\n",
       "    <tr style=\"text-align: right;\">\n",
       "      <th></th>\n",
       "      <th>CID</th>\n",
       "      <th>gender</th>\n",
       "      <th>Senior_Citizen</th>\n",
       "      <th>Marrital_Status</th>\n",
       "      <th>No_Dependent</th>\n",
       "      <th>MonthSinceJoining</th>\n",
       "      <th>Service_Phone</th>\n",
       "      <th>Morethan1Connection</th>\n",
       "      <th>Internet_Service</th>\n",
       "      <th>Security_Deposit</th>\n",
       "      <th>Device_Insurance</th>\n",
       "      <th>TechnicalSupport</th>\n",
       "      <th>LiveTVService</th>\n",
       "      <th>MovieAccount</th>\n",
       "      <th>TypeOfContract</th>\n",
       "      <th>Ebill</th>\n",
       "      <th>MethodOfPayment</th>\n",
       "      <th>AverageMonthlyCharge</th>\n",
       "      <th>TotalChargesTillDate</th>\n",
       "      <th>Churn</th>\n",
       "    </tr>\n",
       "  </thead>\n",
       "  <tbody>\n",
       "    <tr>\n",
       "      <th>count</th>\n",
       "      <td>13189</td>\n",
       "      <td>12288</td>\n",
       "      <td>13189.000000</td>\n",
       "      <td>13189</td>\n",
       "      <td>13189.000000</td>\n",
       "      <td>13189.000000</td>\n",
       "      <td>13189</td>\n",
       "      <td>13189</td>\n",
       "      <td>13189</td>\n",
       "      <td>13189</td>\n",
       "      <td>13189</td>\n",
       "      <td>13189</td>\n",
       "      <td>13189</td>\n",
       "      <td>13189</td>\n",
       "      <td>13189</td>\n",
       "      <td>13189</td>\n",
       "      <td>13189</td>\n",
       "      <td>13189.000000</td>\n",
       "      <td>13189.000000</td>\n",
       "      <td>13189</td>\n",
       "    </tr>\n",
       "    <tr>\n",
       "      <th>unique</th>\n",
       "      <td>12949</td>\n",
       "      <td>4</td>\n",
       "      <td>NaN</td>\n",
       "      <td>2</td>\n",
       "      <td>NaN</td>\n",
       "      <td>NaN</td>\n",
       "      <td>2</td>\n",
       "      <td>3</td>\n",
       "      <td>3</td>\n",
       "      <td>3</td>\n",
       "      <td>3</td>\n",
       "      <td>3</td>\n",
       "      <td>3</td>\n",
       "      <td>3</td>\n",
       "      <td>3</td>\n",
       "      <td>2</td>\n",
       "      <td>4</td>\n",
       "      <td>NaN</td>\n",
       "      <td>NaN</td>\n",
       "      <td>2</td>\n",
       "    </tr>\n",
       "    <tr>\n",
       "      <th>top</th>\n",
       "      <td>72586_1</td>\n",
       "      <td>m</td>\n",
       "      <td>NaN</td>\n",
       "      <td>No</td>\n",
       "      <td>NaN</td>\n",
       "      <td>NaN</td>\n",
       "      <td>Yes</td>\n",
       "      <td>No</td>\n",
       "      <td>Fiber optic</td>\n",
       "      <td>No</td>\n",
       "      <td>No</td>\n",
       "      <td>No</td>\n",
       "      <td>No</td>\n",
       "      <td>No</td>\n",
       "      <td>monthly</td>\n",
       "      <td>Yes</td>\n",
       "      <td>Electronic check</td>\n",
       "      <td>NaN</td>\n",
       "      <td>NaN</td>\n",
       "      <td>No</td>\n",
       "    </tr>\n",
       "    <tr>\n",
       "      <th>freq</th>\n",
       "      <td>3</td>\n",
       "      <td>3089</td>\n",
       "      <td>NaN</td>\n",
       "      <td>6817</td>\n",
       "      <td>NaN</td>\n",
       "      <td>NaN</td>\n",
       "      <td>11932</td>\n",
       "      <td>6366</td>\n",
       "      <td>5794</td>\n",
       "      <td>6532</td>\n",
       "      <td>5782</td>\n",
       "      <td>6516</td>\n",
       "      <td>5262</td>\n",
       "      <td>5199</td>\n",
       "      <td>7286</td>\n",
       "      <td>7807</td>\n",
       "      <td>4433</td>\n",
       "      <td>NaN</td>\n",
       "      <td>NaN</td>\n",
       "      <td>9700</td>\n",
       "    </tr>\n",
       "    <tr>\n",
       "      <th>mean</th>\n",
       "      <td>NaN</td>\n",
       "      <td>NaN</td>\n",
       "      <td>0.162711</td>\n",
       "      <td>NaN</td>\n",
       "      <td>1.507696</td>\n",
       "      <td>25.387444</td>\n",
       "      <td>NaN</td>\n",
       "      <td>NaN</td>\n",
       "      <td>NaN</td>\n",
       "      <td>NaN</td>\n",
       "      <td>NaN</td>\n",
       "      <td>NaN</td>\n",
       "      <td>NaN</td>\n",
       "      <td>NaN</td>\n",
       "      <td>NaN</td>\n",
       "      <td>NaN</td>\n",
       "      <td>NaN</td>\n",
       "      <td>64.922132</td>\n",
       "      <td>2285.667147</td>\n",
       "      <td>NaN</td>\n",
       "    </tr>\n",
       "    <tr>\n",
       "      <th>std</th>\n",
       "      <td>NaN</td>\n",
       "      <td>NaN</td>\n",
       "      <td>0.369116</td>\n",
       "      <td>NaN</td>\n",
       "      <td>1.114143</td>\n",
       "      <td>14.542941</td>\n",
       "      <td>NaN</td>\n",
       "      <td>NaN</td>\n",
       "      <td>NaN</td>\n",
       "      <td>NaN</td>\n",
       "      <td>NaN</td>\n",
       "      <td>NaN</td>\n",
       "      <td>NaN</td>\n",
       "      <td>NaN</td>\n",
       "      <td>NaN</td>\n",
       "      <td>NaN</td>\n",
       "      <td>NaN</td>\n",
       "      <td>30.134950</td>\n",
       "      <td>2273.447118</td>\n",
       "      <td>NaN</td>\n",
       "    </tr>\n",
       "    <tr>\n",
       "      <th>min</th>\n",
       "      <td>NaN</td>\n",
       "      <td>NaN</td>\n",
       "      <td>0.000000</td>\n",
       "      <td>NaN</td>\n",
       "      <td>0.000000</td>\n",
       "      <td>1.000000</td>\n",
       "      <td>NaN</td>\n",
       "      <td>NaN</td>\n",
       "      <td>NaN</td>\n",
       "      <td>NaN</td>\n",
       "      <td>NaN</td>\n",
       "      <td>NaN</td>\n",
       "      <td>NaN</td>\n",
       "      <td>NaN</td>\n",
       "      <td>NaN</td>\n",
       "      <td>NaN</td>\n",
       "      <td>NaN</td>\n",
       "      <td>18.000000</td>\n",
       "      <td>19.000000</td>\n",
       "      <td>NaN</td>\n",
       "    </tr>\n",
       "    <tr>\n",
       "      <th>25%</th>\n",
       "      <td>NaN</td>\n",
       "      <td>NaN</td>\n",
       "      <td>0.000000</td>\n",
       "      <td>NaN</td>\n",
       "      <td>1.000000</td>\n",
       "      <td>13.000000</td>\n",
       "      <td>NaN</td>\n",
       "      <td>NaN</td>\n",
       "      <td>NaN</td>\n",
       "      <td>NaN</td>\n",
       "      <td>NaN</td>\n",
       "      <td>NaN</td>\n",
       "      <td>NaN</td>\n",
       "      <td>NaN</td>\n",
       "      <td>NaN</td>\n",
       "      <td>NaN</td>\n",
       "      <td>NaN</td>\n",
       "      <td>36.000000</td>\n",
       "      <td>394.000000</td>\n",
       "      <td>NaN</td>\n",
       "    </tr>\n",
       "    <tr>\n",
       "      <th>50%</th>\n",
       "      <td>NaN</td>\n",
       "      <td>NaN</td>\n",
       "      <td>0.000000</td>\n",
       "      <td>NaN</td>\n",
       "      <td>2.000000</td>\n",
       "      <td>25.000000</td>\n",
       "      <td>NaN</td>\n",
       "      <td>NaN</td>\n",
       "      <td>NaN</td>\n",
       "      <td>NaN</td>\n",
       "      <td>NaN</td>\n",
       "      <td>NaN</td>\n",
       "      <td>NaN</td>\n",
       "      <td>NaN</td>\n",
       "      <td>NaN</td>\n",
       "      <td>NaN</td>\n",
       "      <td>NaN</td>\n",
       "      <td>71.000000</td>\n",
       "      <td>1398.000000</td>\n",
       "      <td>NaN</td>\n",
       "    </tr>\n",
       "    <tr>\n",
       "      <th>75%</th>\n",
       "      <td>NaN</td>\n",
       "      <td>NaN</td>\n",
       "      <td>0.000000</td>\n",
       "      <td>NaN</td>\n",
       "      <td>2.000000</td>\n",
       "      <td>38.000000</td>\n",
       "      <td>NaN</td>\n",
       "      <td>NaN</td>\n",
       "      <td>NaN</td>\n",
       "      <td>NaN</td>\n",
       "      <td>NaN</td>\n",
       "      <td>NaN</td>\n",
       "      <td>NaN</td>\n",
       "      <td>NaN</td>\n",
       "      <td>NaN</td>\n",
       "      <td>NaN</td>\n",
       "      <td>NaN</td>\n",
       "      <td>90.000000</td>\n",
       "      <td>3830.000000</td>\n",
       "      <td>NaN</td>\n",
       "    </tr>\n",
       "    <tr>\n",
       "      <th>max</th>\n",
       "      <td>NaN</td>\n",
       "      <td>NaN</td>\n",
       "      <td>1.000000</td>\n",
       "      <td>NaN</td>\n",
       "      <td>3.000000</td>\n",
       "      <td>50.000000</td>\n",
       "      <td>NaN</td>\n",
       "      <td>NaN</td>\n",
       "      <td>NaN</td>\n",
       "      <td>NaN</td>\n",
       "      <td>NaN</td>\n",
       "      <td>NaN</td>\n",
       "      <td>NaN</td>\n",
       "      <td>NaN</td>\n",
       "      <td>NaN</td>\n",
       "      <td>NaN</td>\n",
       "      <td>NaN</td>\n",
       "      <td>119.000000</td>\n",
       "      <td>8685.000000</td>\n",
       "      <td>NaN</td>\n",
       "    </tr>\n",
       "  </tbody>\n",
       "</table>\n",
       "</div>"
      ],
      "text/plain": [
       "            CID gender  Senior_Citizen Marrital_Status  No_Dependent  \\\n",
       "count     13189  12288    13189.000000           13189  13189.000000   \n",
       "unique    12949      4             NaN               2           NaN   \n",
       "top     72586_1      m             NaN              No           NaN   \n",
       "freq          3   3089             NaN            6817           NaN   \n",
       "mean        NaN    NaN        0.162711             NaN      1.507696   \n",
       "std         NaN    NaN        0.369116             NaN      1.114143   \n",
       "min         NaN    NaN        0.000000             NaN      0.000000   \n",
       "25%         NaN    NaN        0.000000             NaN      1.000000   \n",
       "50%         NaN    NaN        0.000000             NaN      2.000000   \n",
       "75%         NaN    NaN        0.000000             NaN      2.000000   \n",
       "max         NaN    NaN        1.000000             NaN      3.000000   \n",
       "\n",
       "        MonthSinceJoining Service_Phone Morethan1Connection Internet_Service  \\\n",
       "count        13189.000000         13189               13189            13189   \n",
       "unique                NaN             2                   3                3   \n",
       "top                   NaN           Yes                  No      Fiber optic   \n",
       "freq                  NaN         11932                6366             5794   \n",
       "mean            25.387444           NaN                 NaN              NaN   \n",
       "std             14.542941           NaN                 NaN              NaN   \n",
       "min              1.000000           NaN                 NaN              NaN   \n",
       "25%             13.000000           NaN                 NaN              NaN   \n",
       "50%             25.000000           NaN                 NaN              NaN   \n",
       "75%             38.000000           NaN                 NaN              NaN   \n",
       "max             50.000000           NaN                 NaN              NaN   \n",
       "\n",
       "       Security_Deposit Device_Insurance TechnicalSupport LiveTVService  \\\n",
       "count             13189            13189            13189         13189   \n",
       "unique                3                3                3             3   \n",
       "top                  No               No               No            No   \n",
       "freq               6532             5782             6516          5262   \n",
       "mean                NaN              NaN              NaN           NaN   \n",
       "std                 NaN              NaN              NaN           NaN   \n",
       "min                 NaN              NaN              NaN           NaN   \n",
       "25%                 NaN              NaN              NaN           NaN   \n",
       "50%                 NaN              NaN              NaN           NaN   \n",
       "75%                 NaN              NaN              NaN           NaN   \n",
       "max                 NaN              NaN              NaN           NaN   \n",
       "\n",
       "       MovieAccount TypeOfContract  Ebill   MethodOfPayment  \\\n",
       "count         13189          13189  13189             13189   \n",
       "unique            3              3      2                 4   \n",
       "top              No        monthly    Yes  Electronic check   \n",
       "freq           5199           7286   7807              4433   \n",
       "mean            NaN            NaN    NaN               NaN   \n",
       "std             NaN            NaN    NaN               NaN   \n",
       "min             NaN            NaN    NaN               NaN   \n",
       "25%             NaN            NaN    NaN               NaN   \n",
       "50%             NaN            NaN    NaN               NaN   \n",
       "75%             NaN            NaN    NaN               NaN   \n",
       "max             NaN            NaN    NaN               NaN   \n",
       "\n",
       "        AverageMonthlyCharge  TotalChargesTillDate  Churn  \n",
       "count           13189.000000          13189.000000  13189  \n",
       "unique                   NaN                   NaN      2  \n",
       "top                      NaN                   NaN     No  \n",
       "freq                     NaN                   NaN   9700  \n",
       "mean               64.922132           2285.667147    NaN  \n",
       "std                30.134950           2273.447118    NaN  \n",
       "min                18.000000             19.000000    NaN  \n",
       "25%                36.000000            394.000000    NaN  \n",
       "50%                71.000000           1398.000000    NaN  \n",
       "75%                90.000000           3830.000000    NaN  \n",
       "max               119.000000           8685.000000    NaN  "
      ]
     },
     "execution_count": 6,
     "metadata": {},
     "output_type": "execute_result"
    }
   ],
   "source": [
    "churn.describe(include='all')"
   ]
  },
  {
   "cell_type": "code",
   "execution_count": 7,
   "metadata": {},
   "outputs": [],
   "source": [
    "\n",
    "#Assign Temporary Storage of the core dataset (For larger sets this step must be avoided)\n",
    "temp  = churn.copy()\n",
    "temp=temp.drop('CID',axis=1)"
   ]
  },
  {
   "cell_type": "code",
   "execution_count": 8,
   "metadata": {},
   "outputs": [
    {
     "name": "stdout",
     "output_type": "stream",
     "text": [
      "(13189, 19)\n"
     ]
    },
    {
     "data": {
      "text/html": [
       "<div>\n",
       "<style scoped>\n",
       "    .dataframe tbody tr th:only-of-type {\n",
       "        vertical-align: middle;\n",
       "    }\n",
       "\n",
       "    .dataframe tbody tr th {\n",
       "        vertical-align: top;\n",
       "    }\n",
       "\n",
       "    .dataframe thead th {\n",
       "        text-align: right;\n",
       "    }\n",
       "</style>\n",
       "<table border=\"1\" class=\"dataframe\">\n",
       "  <thead>\n",
       "    <tr style=\"text-align: right;\">\n",
       "      <th></th>\n",
       "      <th>gender</th>\n",
       "      <th>Senior_Citizen</th>\n",
       "      <th>Marrital_Status</th>\n",
       "      <th>No_Dependent</th>\n",
       "      <th>MonthSinceJoining</th>\n",
       "      <th>Service_Phone</th>\n",
       "      <th>Morethan1Connection</th>\n",
       "      <th>Internet_Service</th>\n",
       "      <th>Security_Deposit</th>\n",
       "      <th>Device_Insurance</th>\n",
       "      <th>TechnicalSupport</th>\n",
       "      <th>LiveTVService</th>\n",
       "      <th>MovieAccount</th>\n",
       "      <th>TypeOfContract</th>\n",
       "      <th>Ebill</th>\n",
       "      <th>MethodOfPayment</th>\n",
       "      <th>AverageMonthlyCharge</th>\n",
       "      <th>TotalChargesTillDate</th>\n",
       "      <th>Churn</th>\n",
       "    </tr>\n",
       "  </thead>\n",
       "  <tbody>\n",
       "    <tr>\n",
       "      <th>0</th>\n",
       "      <td>female</td>\n",
       "      <td>0</td>\n",
       "      <td>Yes</td>\n",
       "      <td>2</td>\n",
       "      <td>1</td>\n",
       "      <td>No</td>\n",
       "      <td>No phone service</td>\n",
       "      <td>DSL</td>\n",
       "      <td>No</td>\n",
       "      <td>No</td>\n",
       "      <td>No</td>\n",
       "      <td>No</td>\n",
       "      <td>No</td>\n",
       "      <td>monthly</td>\n",
       "      <td>Yes</td>\n",
       "      <td>Electronic check</td>\n",
       "      <td>30</td>\n",
       "      <td>30</td>\n",
       "      <td>No</td>\n",
       "    </tr>\n",
       "    <tr>\n",
       "      <th>1</th>\n",
       "      <td>male</td>\n",
       "      <td>0</td>\n",
       "      <td>No</td>\n",
       "      <td>1</td>\n",
       "      <td>40</td>\n",
       "      <td>Yes</td>\n",
       "      <td>No</td>\n",
       "      <td>DSL</td>\n",
       "      <td>Yes</td>\n",
       "      <td>Yes</td>\n",
       "      <td>No</td>\n",
       "      <td>No</td>\n",
       "      <td>No</td>\n",
       "      <td>One year</td>\n",
       "      <td>No</td>\n",
       "      <td>Mailed check</td>\n",
       "      <td>57</td>\n",
       "      <td>1890</td>\n",
       "      <td>No</td>\n",
       "    </tr>\n",
       "    <tr>\n",
       "      <th>2</th>\n",
       "      <td>f</td>\n",
       "      <td>0</td>\n",
       "      <td>No</td>\n",
       "      <td>0</td>\n",
       "      <td>39</td>\n",
       "      <td>Yes</td>\n",
       "      <td>No</td>\n",
       "      <td>DSL</td>\n",
       "      <td>Yes</td>\n",
       "      <td>No</td>\n",
       "      <td>No</td>\n",
       "      <td>No</td>\n",
       "      <td>No</td>\n",
       "      <td>monthly</td>\n",
       "      <td>Yes</td>\n",
       "      <td>Mailed check</td>\n",
       "      <td>54</td>\n",
       "      <td>108</td>\n",
       "      <td>Yes</td>\n",
       "    </tr>\n",
       "    <tr>\n",
       "      <th>3</th>\n",
       "      <td>male</td>\n",
       "      <td>0</td>\n",
       "      <td>No</td>\n",
       "      <td>2</td>\n",
       "      <td>13</td>\n",
       "      <td>No</td>\n",
       "      <td>No phone service</td>\n",
       "      <td>DSL</td>\n",
       "      <td>Yes</td>\n",
       "      <td>Yes</td>\n",
       "      <td>Yes</td>\n",
       "      <td>No</td>\n",
       "      <td>No</td>\n",
       "      <td>One year</td>\n",
       "      <td>No</td>\n",
       "      <td>Bank transfer (automatic)</td>\n",
       "      <td>42</td>\n",
       "      <td>1841</td>\n",
       "      <td>No</td>\n",
       "    </tr>\n",
       "    <tr>\n",
       "      <th>4</th>\n",
       "      <td>f</td>\n",
       "      <td>0</td>\n",
       "      <td>No</td>\n",
       "      <td>1</td>\n",
       "      <td>9</td>\n",
       "      <td>Yes</td>\n",
       "      <td>No</td>\n",
       "      <td>Fiber optic</td>\n",
       "      <td>No</td>\n",
       "      <td>No</td>\n",
       "      <td>No</td>\n",
       "      <td>No</td>\n",
       "      <td>No</td>\n",
       "      <td>monthly</td>\n",
       "      <td>Yes</td>\n",
       "      <td>Electronic check</td>\n",
       "      <td>71</td>\n",
       "      <td>152</td>\n",
       "      <td>Yes</td>\n",
       "    </tr>\n",
       "  </tbody>\n",
       "</table>\n",
       "</div>"
      ],
      "text/plain": [
       "   gender  Senior_Citizen Marrital_Status  No_Dependent  MonthSinceJoining  \\\n",
       "0  female               0             Yes             2                  1   \n",
       "1    male               0              No             1                 40   \n",
       "2       f               0              No             0                 39   \n",
       "3    male               0              No             2                 13   \n",
       "4       f               0              No             1                  9   \n",
       "\n",
       "  Service_Phone Morethan1Connection Internet_Service Security_Deposit  \\\n",
       "0            No    No phone service              DSL               No   \n",
       "1           Yes                  No              DSL              Yes   \n",
       "2           Yes                  No              DSL              Yes   \n",
       "3            No    No phone service              DSL              Yes   \n",
       "4           Yes                  No      Fiber optic               No   \n",
       "\n",
       "  Device_Insurance TechnicalSupport LiveTVService MovieAccount TypeOfContract  \\\n",
       "0               No               No            No           No        monthly   \n",
       "1              Yes               No            No           No       One year   \n",
       "2               No               No            No           No        monthly   \n",
       "3              Yes              Yes            No           No       One year   \n",
       "4               No               No            No           No        monthly   \n",
       "\n",
       "  Ebill            MethodOfPayment  AverageMonthlyCharge  \\\n",
       "0   Yes           Electronic check                    30   \n",
       "1    No               Mailed check                    57   \n",
       "2   Yes               Mailed check                    54   \n",
       "3    No  Bank transfer (automatic)                    42   \n",
       "4   Yes           Electronic check                    71   \n",
       "\n",
       "   TotalChargesTillDate Churn  \n",
       "0                    30    No  \n",
       "1                  1890    No  \n",
       "2                   108   Yes  \n",
       "3                  1841    No  \n",
       "4                   152   Yes  "
      ]
     },
     "execution_count": 8,
     "metadata": {},
     "output_type": "execute_result"
    }
   ],
   "source": [
    "print(temp.shape)\n",
    "temp.head()"
   ]
  },
  {
   "cell_type": "code",
   "execution_count": 9,
   "metadata": {},
   "outputs": [
    {
     "name": "stdout",
     "output_type": "stream",
     "text": [
      "m         3089\n",
      "female    3084\n",
      "male      3073\n",
      "f         3042\n",
      "Name: gender, dtype: int64\n"
     ]
    }
   ],
   "source": [
    "print(temp.gender.value_counts())"
   ]
  },
  {
   "cell_type": "code",
   "execution_count": 10,
   "metadata": {},
   "outputs": [
    {
     "name": "stdout",
     "output_type": "stream",
     "text": [
      "m    6162\n",
      "f    6126\n",
      "Name: gender, dtype: int64\n"
     ]
    }
   ],
   "source": [
    "\n",
    "temp.gender=np.where(temp['gender']=='female','f',temp.gender)\n",
    "temp.gender=np.where(temp['gender']=='male','m',temp.gender)\n",
    "\n",
    "print(temp.gender.value_counts())\n"
   ]
  },
  {
   "cell_type": "markdown",
   "metadata": {},
   "source": [
    "### Missing value treatment"
   ]
  },
  {
   "cell_type": "code",
   "execution_count": 11,
   "metadata": {},
   "outputs": [
    {
     "name": "stdout",
     "output_type": "stream",
     "text": [
      "Index(['gender'], dtype='object')\n",
      "     gender\n",
      "1256    NaN\n",
      "1257    NaN\n",
      "1258    NaN\n",
      "1259    NaN\n",
      "1260    NaN\n"
     ]
    }
   ],
   "source": [
    "# Retrieve Columns that have Null Value \n",
    "null_columns=temp.columns[temp.isnull().any()]\n",
    "\n",
    "print(null_columns)\n",
    "# Retrieve Sample Rows for columns that have Null Value \n",
    "print(temp[temp.isnull().any(axis=1)][null_columns].head())\n"
   ]
  },
  {
   "cell_type": "code",
   "execution_count": 12,
   "metadata": {},
   "outputs": [
    {
     "name": "stdout",
     "output_type": "stream",
     "text": [
      "gender\n",
      "Senior_Citizen\n",
      "Marrital_Status\n",
      "Service_Phone\n",
      "Morethan1Connection\n",
      "Internet_Service\n",
      "Security_Deposit\n",
      "Device_Insurance\n",
      "TechnicalSupport\n",
      "LiveTVService\n",
      "MovieAccount\n",
      "TypeOfContract\n",
      "Ebill\n",
      "MethodOfPayment\n",
      "Churn\n"
     ]
    }
   ],
   "source": [
    "temp.iloc[:,[0,1,2,5,6,7,8,9,10,11,12,13,14,15,18]] = temp.iloc[:,[0,1,2,5,6,7,8,9,10,11,12,13,14,15,18]].astype(str)\n",
    "categoric_variables = temp.columns[temp.dtypes=='object']\n",
    "\n",
    "# Categorical Imputation\n",
    "for i in range(0,len(categoric_variables)):\n",
    "    print(categoric_variables[i])\n",
    "    temp[categoric_variables[i]]=temp[categoric_variables[i]].replace(np.nan,temp[categoric_variables[i]].mode()[0])\n",
    "    temp[categoric_variables[i]]=temp[categoric_variables[i]].replace(to_replace =\"NaN\", \n",
    "                 value =temp[categoric_variables[i]].mode()[0])\n",
    "    temp[categoric_variables[i]]=temp[categoric_variables[i]].replace(to_replace =\"nan\", \n",
    "                 value =temp[categoric_variables[i]].mode()[0])\n",
    "    temp[categoric_variables[i]].fillna(0, inplace = True) \n",
    "\n",
    "# Numeric Imputation\n",
    "# There is no numeric variable which have missing values\n"
   ]
  },
  {
   "cell_type": "code",
   "execution_count": 13,
   "metadata": {},
   "outputs": [
    {
     "name": "stdout",
     "output_type": "stream",
     "text": [
      "Index([], dtype='object')\n"
     ]
    }
   ],
   "source": [
    "# Retrieve Columns that have Null Value \n",
    "null_columns=temp.columns[temp.isnull().any()]\n",
    "\n",
    "print(null_columns)\n"
   ]
  },
  {
   "cell_type": "code",
   "execution_count": 14,
   "metadata": {
    "scrolled": true
   },
   "outputs": [
    {
     "data": {
      "text/plain": [
       "m    7063\n",
       "f    6126\n",
       "Name: gender, dtype: int64"
      ]
     },
     "execution_count": 14,
     "metadata": {},
     "output_type": "execute_result"
    }
   ],
   "source": [
    "temp.gender.value_counts()"
   ]
  },
  {
   "cell_type": "markdown",
   "metadata": {},
   "source": [
    "### EDA and Feature Transformation"
   ]
  },
  {
   "cell_type": "code",
   "execution_count": 15,
   "metadata": {},
   "outputs": [
    {
     "name": "stdout",
     "output_type": "stream",
     "text": [
      "No_Dependent\n"
     ]
    },
    {
     "name": "stderr",
     "output_type": "stream",
     "text": [
      "C:\\Users\\ankit\\anaconda3\\lib\\site-packages\\seaborn\\distributions.py:2557: FutureWarning: `distplot` is a deprecated function and will be removed in a future version. Please adapt your code to use either `displot` (a figure-level function with similar flexibility) or `histplot` (an axes-level function for histograms).\n",
      "  warnings.warn(msg, FutureWarning)\n"
     ]
    },
    {
     "name": "stdout",
     "output_type": "stream",
     "text": [
      "MonthSinceJoining\n"
     ]
    },
    {
     "name": "stderr",
     "output_type": "stream",
     "text": [
      "C:\\Users\\ankit\\anaconda3\\lib\\site-packages\\ipykernel_launcher.py:14: RuntimeWarning: More than 20 figures have been opened. Figures created through the pyplot interface (`matplotlib.pyplot.figure`) are retained until explicitly closed and may consume too much memory. (To control this warning, see the rcParam `figure.max_open_warning`).\n",
      "  \n"
     ]
    },
    {
     "name": "stdout",
     "output_type": "stream",
     "text": [
      "AverageMonthlyCharge\n"
     ]
    },
    {
     "name": "stderr",
     "output_type": "stream",
     "text": [
      "C:\\Users\\ankit\\anaconda3\\lib\\site-packages\\seaborn\\distributions.py:2557: FutureWarning: `distplot` is a deprecated function and will be removed in a future version. Please adapt your code to use either `displot` (a figure-level function with similar flexibility) or `histplot` (an axes-level function for histograms).\n",
      "  warnings.warn(msg, FutureWarning)\n"
     ]
    },
    {
     "name": "stdout",
     "output_type": "stream",
     "text": [
      "TotalChargesTillDate\n"
     ]
    },
    {
     "data": {
      "text/plain": [
       "<Figure size 432x288 with 0 Axes>"
      ]
     },
     "metadata": {},
     "output_type": "display_data"
    },
    {
     "data": {
      "image/png": "[encoded data removed]",
      "text/plain": [
       "<Figure size 360x360 with 1 Axes>"
      ]
     },
     "metadata": {
      "needs_background": "light"
     },
     "output_type": "display_data"
    },
    {
     "data": {
      "text/plain": [
       "<Figure size 432x288 with 0 Axes>"
      ]
     },
     "metadata": {},
     "output_type": "display_data"
    },
    {
     "data": {
      "image/png": "[encoded data removed]",
      "text/plain": [
       "<Figure size 360x360 with 1 Axes>"
      ]
     },
     "metadata": {
      "needs_background": "light"
     },
     "output_type": "display_data"
    },
    {
     "data": {
      "image/png": "[encoded data removed]",
      "text/plain": [
       "<Figure size 432x288 with 1 Axes>"
      ]
     },
     "metadata": {
      "needs_background": "light"
     },
     "output_type": "display_data"
    },
    {
     "data": {
      "image/png": "[encoded data removed]",
      "text/plain": [
       "<Figure size 432x288 with 1 Axes>"
      ]
     },
     "metadata": {
      "needs_background": "light"
     },
     "output_type": "display_data"
    },
    {
     "data": {
      "text/plain": [
       "<Figure size 432x288 with 0 Axes>"
      ]
     },
     "metadata": {},
     "output_type": "display_data"
    },
    {
     "data": {
      "image/png": "[encoded data removed]",
      "text/plain": [
       "<Figure size 360x360 with 1 Axes>"
      ]
     },
     "metadata": {
      "needs_background": "light"
     },
     "output_type": "display_data"
    },
    {
     "data": {
      "text/plain": [
       "<Figure size 432x288 with 0 Axes>"
      ]
     },
     "metadata": {},
     "output_type": "display_data"
    },
    {
     "data": {
      "image/png": "[encoded data removed]",
      "text/plain": [
       "<Figure size 360x360 with 1 Axes>"
      ]
     },
     "metadata": {
      "needs_background": "light"
     },
     "output_type": "display_data"
    },
    {
     "data": {
      "text/plain": [
       "<Figure size 432x288 with 0 Axes>"
      ]
     },
     "metadata": {},
     "output_type": "display_data"
    },
    {
     "data": {
      "image/png": "[encoded data removed]",
      "text/plain": [
       "<Figure size 360x360 with 1 Axes>"
      ]
     },
     "metadata": {
      "needs_background": "light"
     },
     "output_type": "display_data"
    },
    {
     "data": {
      "text/plain": [
       "<Figure size 432x288 with 0 Axes>"
      ]
     },
     "metadata": {},
     "output_type": "display_data"
    },
    {
     "data": {
      "image/png": "[encoded data removed]",
      "text/plain": [
       "<Figure size 360x360 with 1 Axes>"
      ]
     },
     "metadata": {
      "needs_background": "light"
     },
     "output_type": "display_data"
    },
    {
     "data": {
      "text/plain": [
       "<Figure size 432x288 with 0 Axes>"
      ]
     },
     "metadata": {},
     "output_type": "display_data"
    },
    {
     "data": {
      "image/png": "[encoded data removed]",
      "text/plain": [
       "<Figure size 360x360 with 1 Axes>"
      ]
     },
     "metadata": {
      "needs_background": "light"
     },
     "output_type": "display_data"
    },
    {
     "data": {
      "text/plain": [
       "<Figure size 432x288 with 0 Axes>"
      ]
     },
     "metadata": {},
     "output_type": "display_data"
    },
    {
     "data": {
      "image/png": "[encoded data removed]",
      "text/plain": [
       "<Figure size 360x360 with 1 Axes>"
      ]
     },
     "metadata": {
      "needs_background": "light"
     },
     "output_type": "display_data"
    },
    {
     "data": {
      "text/plain": [
       "<Figure size 432x288 with 0 Axes>"
      ]
     },
     "metadata": {},
     "output_type": "display_data"
    },
    {
     "data": {
      "image/png": "[encoded data removed]",
      "text/plain": [
       "<Figure size 360x360 with 1 Axes>"
      ]
     },
     "metadata": {
      "needs_background": "light"
     },
     "output_type": "display_data"
    },
    {
     "data": {
      "text/plain": [
       "<Figure size 432x288 with 0 Axes>"
      ]
     },
     "metadata": {},
     "output_type": "display_data"
    },
    {
     "data": {
      "image/png": "[encoded data removed]",
      "text/plain": [
       "<Figure size 360x360 with 1 Axes>"
      ]
     },
     "metadata": {
      "needs_background": "light"
     },
     "output_type": "display_data"
    },
    {
     "data": {
      "text/plain": [
       "<Figure size 432x288 with 0 Axes>"
      ]
     },
     "metadata": {},
     "output_type": "display_data"
    },
    {
     "data": {
      "image/png": "[encoded data removed]",
      "text/plain": [
       "<Figure size 360x360 with 1 Axes>"
      ]
     },
     "metadata": {
      "needs_background": "light"
     },
     "output_type": "display_data"
    },
    {
     "data": {
      "text/plain": [
       "<Figure size 432x288 with 0 Axes>"
      ]
     },
     "metadata": {},
     "output_type": "display_data"
    },
    {
     "data": {
      "image/png": "[encoded data removed]",
      "text/plain": [
       "<Figure size 360x360 with 1 Axes>"
      ]
     },
     "metadata": {
      "needs_background": "light"
     },
     "output_type": "display_data"
    },
    {
     "data": {
      "text/plain": [
       "<Figure size 432x288 with 0 Axes>"
      ]
     },
     "metadata": {},
     "output_type": "display_data"
    },
    {
     "data": {
      "image/png": "[encoded data removed]",
      "text/plain": [
       "<Figure size 360x360 with 1 Axes>"
      ]
     },
     "metadata": {
      "needs_background": "light"
     },
     "output_type": "display_data"
    },
    {
     "data": {
      "image/png": "[encoded data removed]",
      "text/plain": [
       "<Figure size 432x288 with 1 Axes>"
      ]
     },
     "metadata": {
      "needs_background": "light"
     },
     "output_type": "display_data"
    },
    {
     "data": {
      "image/png": "[encoded data removed]",
      "text/plain": [
       "<Figure size 432x288 with 1 Axes>"
      ]
     },
     "metadata": {
      "needs_background": "light"
     },
     "output_type": "display_data"
    },
    {
     "data": {
      "text/plain": [
       "<Figure size 432x288 with 0 Axes>"
      ]
     },
     "metadata": {},
     "output_type": "display_data"
    },
    {
     "data": {
      "image/png": "[encoded data removed]",
      "text/plain": [
       "<Figure size 360x360 with 1 Axes>"
      ]
     },
     "metadata": {
      "needs_background": "light"
     },
     "output_type": "display_data"
    }
   ],
   "source": [
    "# Plotting All the Variables that are available in raw file\n",
    "os.chdir('C:\\\\Users\\\\ankit\\\\Teaching with Vijay\\\\Logistic Regression\\\\')\n",
    "if not os.path.exists('Plots'):\n",
    "    os.makedirs('Plots')\n",
    "os.chdir('C:\\\\Users\\\\ankit\\\\Teaching with Vijay\\\\Logistic Regression\\\\Plots\\\\')\n",
    "\n",
    "for i in range(1,len(temp.columns)):\n",
    "    if(temp.dtypes[i] in ('float64','int64')):\n",
    "        print(temp.columns[i])\n",
    "        plt.figure()\n",
    "        sns_plot = sns.distplot(temp[temp.columns[i]], kde=False)\n",
    "        sns_plot.figure.savefig(temp.columns[i]+'.png')\n",
    "    else:\n",
    "        plt.figure()\n",
    "        sns_plot = sns.catplot(x=temp.columns[i], kind=\"count\", palette=\"ch:.25\", data=temp)\n",
    "        sns_plot.savefig(temp.columns[i]+'.png')\n",
    "\n"
   ]
  },
  {
   "cell_type": "code",
   "execution_count": 16,
   "metadata": {},
   "outputs": [],
   "source": [
    "numeric_variables = temp.columns[temp.dtypes!='object']"
   ]
  },
  {
   "cell_type": "code",
   "execution_count": 17,
   "metadata": {},
   "outputs": [
    {
     "data": {
      "text/plain": [
       "Index(['No_Dependent', 'MonthSinceJoining', 'AverageMonthlyCharge',\n",
       "       'TotalChargesTillDate'],\n",
       "      dtype='object')"
      ]
     },
     "execution_count": 17,
     "metadata": {},
     "output_type": "execute_result"
    }
   ],
   "source": [
    "numeric_variables"
   ]
  },
  {
   "cell_type": "code",
   "execution_count": 18,
   "metadata": {},
   "outputs": [],
   "source": [
    "\n",
    "# Almost all numerical columns require transformation\n",
    "log_mean_transform_var=['TotalChargesTillDate'] # other numerical variables are either having descrete integers or somewhat uniform (non-skewed) distribution\n",
    "\n",
    "# Numeric Imputation\n",
    "from sklearn.impute import SimpleImputer\n",
    "mean_imp = SimpleImputer(missing_values=np.nan, strategy=\"mean\")\n",
    "\n",
    "import time\n",
    "for i in range(0,len(temp.columns)):\n",
    "    if(temp.columns[i] in log_mean_transform_var):\n",
    "        logtransform=np.log(temp[temp.columns[i]])\n",
    "        logtransform = logtransform.replace([np.inf, -np.inf], np.nan)\n",
    "        logtransform = mean_imp.fit_transform(pd.DataFrame(logtransform))\n",
    "        temp[temp.columns[i]]=logtransform\n",
    "        temp[temp.columns[i]].fillna(0, inplace = True) \n"
   ]
  },
  {
   "cell_type": "markdown",
   "metadata": {},
   "source": [
    "### Feature Selection"
   ]
  },
  {
   "cell_type": "markdown",
   "metadata": {},
   "source": [
    "##### Feature reduction for numerical variables"
   ]
  },
  {
   "cell_type": "code",
   "execution_count": 19,
   "metadata": {},
   "outputs": [
    {
     "name": "stdout",
     "output_type": "stream",
     "text": [
      "list of variables to be dropped []\n",
      "list of variables to be dropped []\n"
     ]
    },
    {
     "data": {
      "image/png": "[encoded data removed]",
      "text/plain": [
       "<Figure size 720x720 with 2 Axes>"
      ]
     },
     "metadata": {
      "needs_background": "light"
     },
     "output_type": "display_data"
    }
   ],
   "source": [
    "# Create correlation matrix\n",
    "corr_matrix = temp[numeric_variables].corr().abs()\n",
    "\n",
    "# Select upper triangle of correlation matrix\n",
    "upper = corr_matrix.where(np.triu(np.ones(corr_matrix.shape), k=1).astype(np.bool))\n",
    "\n",
    "# Find index of feature columns with correlation greater than 0.7 & less than -0.7\n",
    "to_drop_pos = [column for column in upper.columns if any(upper[column] > 0.7)]\n",
    "to_drop_neg = [column for column in upper.columns if any(upper[column] < -0.7)]\n",
    "print('list of variables to be dropped', to_drop_pos)\n",
    "print('list of variables to be dropped', to_drop_neg)\n",
    "plt.figure(figsize=(10,10))\n",
    "# Generate a mask for the upper triangle\n",
    "mask = np.triu(np.ones_like(corr_matrix, dtype=np.bool))\n",
    "# Generate a custom diverging colormap\n",
    "cmap = sns.diverging_palette(220, 10, as_cmap=True)\n",
    "# Draw the heatmap with the mask and correct aspect ratio\n",
    "sns_plot=sns.heatmap(corr_matrix, mask=mask, cmap=cmap, vmax=.3, center=0,\n",
    "            square=True, linewidths=.5, cbar_kws={\"shrink\": .5})\n",
    "sns_plot.figure.savefig('correlation.png')\n"
   ]
  },
  {
   "cell_type": "code",
   "execution_count": 20,
   "metadata": {},
   "outputs": [
    {
     "name": "stdout",
     "output_type": "stream",
     "text": [
      "[6.76425841e-01 6.34554770e-04 7.70734123e-04 3.22168870e-01]\n"
     ]
    },
    {
     "name": "stderr",
     "output_type": "stream",
     "text": [
      "C:\\Users\\ankit\\anaconda3\\lib\\site-packages\\seaborn\\_decorators.py:43: FutureWarning: Pass the following variables as keyword args: x, y. From version 0.12, the only valid positional argument will be `data`, and passing other arguments without an explicit keyword will result in an error or misinterpretation.\n",
      "  FutureWarning\n"
     ]
    },
    {
     "name": "stdout",
     "output_type": "stream",
     "text": [
      "list of numerical variables to be rejected from gini methods {'No_Dependent', 'MonthSinceJoining'}\n"
     ]
    },
    {
     "data": {
      "image/png": "[encoded data removed]",
      "text/plain": [
       "<Figure size 432x288 with 1 Axes>"
      ]
     },
     "metadata": {
      "needs_background": "light"
     },
     "output_type": "display_data"
    }
   ],
   "source": [
    "#GINI INDEX for numeric variables \n",
    "\n",
    "\n",
    "# Drop NaN Value from the temp variable\n",
    "temp['Churn'] = np.where(temp['Churn']=='Yes',1,0)       \n",
    "temp=temp.dropna(how='any') \n",
    "\n",
    "\n",
    "X = temp.drop(temp.columns[18],axis=1)\n",
    "y = temp[temp.columns[18]]\n",
    "\n",
    "# Identify Numeric Values separately\n",
    "num_only=set(numeric_variables).difference(categoric_variables)\n",
    "\n",
    "\n",
    "# Decision tree with gini \n",
    "dt_model_num = DecisionTreeClassifier( criterion='gini',\n",
    "             random_state = 100, \n",
    "            max_depth = 5, min_samples_leaf = 20) \n",
    "  \n",
    "# Performing training \n",
    "dt_model_num.fit(X[num_only], y)\n",
    "print(dt_model_num.feature_importances_)\n",
    "\n",
    "dt_p_values_num = pd.Series(dt_model_num.feature_importances_,index = X[num_only].columns)\n",
    "dt_p_values_num.sort_values(ascending = False , inplace = True)\n",
    "dt_p_values_num.index\n",
    "plt.figure()\n",
    "sns.set(rc={'figure.figsize':(11.7,8.27)})\n",
    "pal = sns.color_palette(\"Greens_d\")\n",
    "sns.set_context(\"paper\")\n",
    "sns_plot = sns.barplot(dt_p_values_num.index[dt_p_values_num>0],dt_p_values_num[dt_p_values_num>0],alpha = 0.85)\n",
    "plt.xticks(rotation=90)\n",
    "plt.xlabel('Factors', fontsize = 11, weight = 'bold')\n",
    "plt.ylabel('GINI INDEX VALUE', fontsize = 11, weight = 'bold')\n",
    "sns_plot.set_title(\"Variable Selection using Gini Scores\", fontsize = 20, weight = 'bold')\n",
    "sns_plot.figure.savefig('GINI_INDEX'+'.png')\n",
    "\n",
    "dt_selected_num=dt_p_values_num.index[dt_p_values_num>0.01]\n",
    "dt_rejected_num=set(X[num_only].columns.values).difference(dt_selected_num)\n",
    "print('list of numerical variables to be rejected from gini methods',dt_rejected_num)\n"
   ]
  },
  {
   "cell_type": "markdown",
   "metadata": {},
   "source": [
    "##### Feature reduction for categorical variables"
   ]
  },
  {
   "cell_type": "code",
   "execution_count": 21,
   "metadata": {},
   "outputs": [
    {
     "data": {
      "text/html": [
       "<div>\n",
       "<style scoped>\n",
       "    .dataframe tbody tr th:only-of-type {\n",
       "        vertical-align: middle;\n",
       "    }\n",
       "\n",
       "    .dataframe tbody tr th {\n",
       "        vertical-align: top;\n",
       "    }\n",
       "\n",
       "    .dataframe thead th {\n",
       "        text-align: right;\n",
       "    }\n",
       "</style>\n",
       "<table border=\"1\" class=\"dataframe\">\n",
       "  <thead>\n",
       "    <tr style=\"text-align: right;\">\n",
       "      <th></th>\n",
       "      <th>gender</th>\n",
       "      <th>Senior_Citizen</th>\n",
       "      <th>Marrital_Status</th>\n",
       "      <th>Service_Phone</th>\n",
       "      <th>Morethan1Connection</th>\n",
       "      <th>Internet_Service</th>\n",
       "      <th>Security_Deposit</th>\n",
       "      <th>Device_Insurance</th>\n",
       "      <th>TechnicalSupport</th>\n",
       "      <th>LiveTVService</th>\n",
       "      <th>MovieAccount</th>\n",
       "      <th>TypeOfContract</th>\n",
       "      <th>Ebill</th>\n",
       "      <th>MethodOfPayment</th>\n",
       "    </tr>\n",
       "  </thead>\n",
       "  <tbody>\n",
       "    <tr>\n",
       "      <th>0</th>\n",
       "      <td>f</td>\n",
       "      <td>0</td>\n",
       "      <td>Yes</td>\n",
       "      <td>No</td>\n",
       "      <td>No phone service</td>\n",
       "      <td>DSL</td>\n",
       "      <td>No</td>\n",
       "      <td>No</td>\n",
       "      <td>No</td>\n",
       "      <td>No</td>\n",
       "      <td>No</td>\n",
       "      <td>monthly</td>\n",
       "      <td>Yes</td>\n",
       "      <td>Electronic check</td>\n",
       "    </tr>\n",
       "    <tr>\n",
       "      <th>1</th>\n",
       "      <td>m</td>\n",
       "      <td>0</td>\n",
       "      <td>No</td>\n",
       "      <td>Yes</td>\n",
       "      <td>No</td>\n",
       "      <td>DSL</td>\n",
       "      <td>Yes</td>\n",
       "      <td>Yes</td>\n",
       "      <td>No</td>\n",
       "      <td>No</td>\n",
       "      <td>No</td>\n",
       "      <td>One year</td>\n",
       "      <td>No</td>\n",
       "      <td>Mailed check</td>\n",
       "    </tr>\n",
       "    <tr>\n",
       "      <th>2</th>\n",
       "      <td>f</td>\n",
       "      <td>0</td>\n",
       "      <td>No</td>\n",
       "      <td>Yes</td>\n",
       "      <td>No</td>\n",
       "      <td>DSL</td>\n",
       "      <td>Yes</td>\n",
       "      <td>No</td>\n",
       "      <td>No</td>\n",
       "      <td>No</td>\n",
       "      <td>No</td>\n",
       "      <td>monthly</td>\n",
       "      <td>Yes</td>\n",
       "      <td>Mailed check</td>\n",
       "    </tr>\n",
       "    <tr>\n",
       "      <th>3</th>\n",
       "      <td>m</td>\n",
       "      <td>0</td>\n",
       "      <td>No</td>\n",
       "      <td>No</td>\n",
       "      <td>No phone service</td>\n",
       "      <td>DSL</td>\n",
       "      <td>Yes</td>\n",
       "      <td>Yes</td>\n",
       "      <td>Yes</td>\n",
       "      <td>No</td>\n",
       "      <td>No</td>\n",
       "      <td>One year</td>\n",
       "      <td>No</td>\n",
       "      <td>Bank transfer (automatic)</td>\n",
       "    </tr>\n",
       "    <tr>\n",
       "      <th>4</th>\n",
       "      <td>f</td>\n",
       "      <td>0</td>\n",
       "      <td>No</td>\n",
       "      <td>Yes</td>\n",
       "      <td>No</td>\n",
       "      <td>Fiber optic</td>\n",
       "      <td>No</td>\n",
       "      <td>No</td>\n",
       "      <td>No</td>\n",
       "      <td>No</td>\n",
       "      <td>No</td>\n",
       "      <td>monthly</td>\n",
       "      <td>Yes</td>\n",
       "      <td>Electronic check</td>\n",
       "    </tr>\n",
       "  </tbody>\n",
       "</table>\n",
       "</div>"
      ],
      "text/plain": [
       "  gender Senior_Citizen Marrital_Status Service_Phone Morethan1Connection  \\\n",
       "0      f              0             Yes            No    No phone service   \n",
       "1      m              0              No           Yes                  No   \n",
       "2      f              0              No           Yes                  No   \n",
       "3      m              0              No            No    No phone service   \n",
       "4      f              0              No           Yes                  No   \n",
       "\n",
       "  Internet_Service Security_Deposit Device_Insurance TechnicalSupport  \\\n",
       "0              DSL               No               No               No   \n",
       "1              DSL              Yes              Yes               No   \n",
       "2              DSL              Yes               No               No   \n",
       "3              DSL              Yes              Yes              Yes   \n",
       "4      Fiber optic               No               No               No   \n",
       "\n",
       "  LiveTVService MovieAccount TypeOfContract Ebill            MethodOfPayment  \n",
       "0            No           No        monthly   Yes           Electronic check  \n",
       "1            No           No       One year    No               Mailed check  \n",
       "2            No           No        monthly   Yes               Mailed check  \n",
       "3            No           No       One year    No  Bank transfer (automatic)  \n",
       "4            No           No        monthly   Yes           Electronic check  "
      ]
     },
     "execution_count": 21,
     "metadata": {},
     "output_type": "execute_result"
    }
   ],
   "source": [
    "temp.iloc[:,[0,1,2,5,6,7,8,9,10,11,12,13,14,15]].head()"
   ]
  },
  {
   "cell_type": "code",
   "execution_count": 22,
   "metadata": {},
   "outputs": [
    {
     "name": "stderr",
     "output_type": "stream",
     "text": [
      "C:\\Users\\ankit\\anaconda3\\lib\\site-packages\\seaborn\\_decorators.py:43: FutureWarning: Pass the following variables as keyword args: x, y. From version 0.12, the only valid positional argument will be `data`, and passing other arguments without an explicit keyword will result in an error or misinterpretation.\n",
      "  FutureWarning\n"
     ]
    },
    {
     "name": "stdout",
     "output_type": "stream",
     "text": [
      "list of categorical variables to be dropped Index(['Device_Insurance', 'TypeOfContract', 'TechnicalSupport',\n",
      "       'Security_Deposit'],\n",
      "      dtype='object')\n"
     ]
    },
    {
     "data": {
      "image/png": "[encoded data removed]",
      "text/plain": [
       "<Figure size 842.4x595.44 with 1 Axes>"
      ]
     },
     "metadata": {},
     "output_type": "display_data"
    }
   ],
   "source": [
    "temp.iloc[:,[0,1,2,5,6,7,8,9,10,11,12,13,14,15,18]] = temp.iloc[:,[0,1,2,5,6,7,8,9,10,11,12,13,14,15,18]].astype('category')\n",
    "\n",
    "# Selecting Categorical Variables alone for Variable Selection\n",
    "t=temp.iloc[:,[0,1,2,5,6,7,8,9,10,11,12,13,14,15]]\n",
    "# Dropping off NaN Values if Any\n",
    "t=t.dropna(how='any')\n",
    "from sklearn import preprocessing\n",
    "le = preprocessing.LabelEncoder()\n",
    "for i in range(0,len(t.columns)):\n",
    "    t.iloc[:,i] = le.fit_transform(t.iloc[:,i])\n",
    "\n",
    "from sklearn.feature_selection import chi2\n",
    "Stats,Pvalue = chi2(t,y)\n",
    "dt_p_values_cat = pd.Series(Pvalue,index = t.columns)\n",
    "dt_p_values_cat.sort_values(ascending = False , inplace = True)\n",
    "plt.figure()\n",
    "sns.set(rc={'figure.figsize':(11.7,8.27)})\n",
    "pal = sns.color_palette(\"Greens_d\")\n",
    "sns.set_context(\"paper\")\n",
    "sns_plot = sns.barplot(dt_p_values_cat.index[dt_p_values_cat>0],dt_p_values_cat[dt_p_values_cat>0],alpha = 0.85)\n",
    "plt.xticks(rotation=90)\n",
    "plt.xlabel('Factors', fontsize = 15, weight = 'bold')\n",
    "plt.ylabel('GINI INDEX VALUE', fontsize = 15, weight = 'bold')\n",
    "sns_plot.set_title(\"Variable Selection using Gini Scores (Categoric)\", fontsize = 20, weight = 'bold')\n",
    "sns_plot.figure.savefig('GINI_INDEX_Categoric'+'.png')\n",
    "\n",
    "dt_selected_cat=dt_p_values_cat.index[:10]\n",
    "dt_rejected_cat=dt_p_values_cat.index[10:]\n",
    "print(\"list of categorical variables to be dropped\", dt_rejected_cat)\n"
   ]
  },
  {
   "cell_type": "code",
   "execution_count": 23,
   "metadata": {},
   "outputs": [
    {
     "name": "stdout",
     "output_type": "stream",
     "text": [
      "['No_Dependent', 'MonthSinceJoining', 'Device_Insurance', 'TypeOfContract', 'TechnicalSupport', 'Security_Deposit']\n"
     ]
    }
   ],
   "source": [
    "rejected_variables=[]\n",
    "rejected_variables.append(to_drop_pos)\n",
    "rejected_variables.append(to_drop_neg)\n",
    "rejected_variables.append(dt_rejected_num)\n",
    "rejected_variables.append(dt_rejected_cat)\n",
    "\n",
    "flattened_list = [y for x in rejected_variables for y in x]\n",
    "rejected_variables_filter = list(dict.fromkeys(flattened_list))\n",
    "print(rejected_variables_filter)\n",
    "\n"
   ]
  },
  {
   "cell_type": "code",
   "execution_count": 24,
   "metadata": {},
   "outputs": [],
   "source": [
    "final_selection=set(temp.columns).difference(rejected_variables_filter)\n",
    "final_selection.remove('Churn')\n"
   ]
  },
  {
   "cell_type": "code",
   "execution_count": 25,
   "metadata": {},
   "outputs": [],
   "source": [
    "final_selection_num=set(final_selection).difference(t.columns)\n",
    "final_selection_cat=set(final_selection).difference(final_selection_num)\n"
   ]
  },
  {
   "cell_type": "code",
   "execution_count": 26,
   "metadata": {},
   "outputs": [
    {
     "data": {
      "text/html": [
       "<div>\n",
       "<style scoped>\n",
       "    .dataframe tbody tr th:only-of-type {\n",
       "        vertical-align: middle;\n",
       "    }\n",
       "\n",
       "    .dataframe tbody tr th {\n",
       "        vertical-align: top;\n",
       "    }\n",
       "\n",
       "    .dataframe thead th {\n",
       "        text-align: right;\n",
       "    }\n",
       "</style>\n",
       "<table border=\"1\" class=\"dataframe\">\n",
       "  <thead>\n",
       "    <tr style=\"text-align: right;\">\n",
       "      <th></th>\n",
       "      <th>Marrital_Status</th>\n",
       "      <th>Senior_Citizen</th>\n",
       "      <th>Morethan1Connection</th>\n",
       "      <th>Internet_Service</th>\n",
       "      <th>gender</th>\n",
       "      <th>MovieAccount</th>\n",
       "      <th>LiveTVService</th>\n",
       "      <th>MethodOfPayment</th>\n",
       "      <th>Service_Phone</th>\n",
       "      <th>Ebill</th>\n",
       "    </tr>\n",
       "  </thead>\n",
       "  <tbody>\n",
       "    <tr>\n",
       "      <th>0</th>\n",
       "      <td>Yes</td>\n",
       "      <td>0</td>\n",
       "      <td>No phone service</td>\n",
       "      <td>DSL</td>\n",
       "      <td>f</td>\n",
       "      <td>No</td>\n",
       "      <td>No</td>\n",
       "      <td>Electronic check</td>\n",
       "      <td>No</td>\n",
       "      <td>Yes</td>\n",
       "    </tr>\n",
       "    <tr>\n",
       "      <th>1</th>\n",
       "      <td>No</td>\n",
       "      <td>0</td>\n",
       "      <td>No</td>\n",
       "      <td>DSL</td>\n",
       "      <td>m</td>\n",
       "      <td>No</td>\n",
       "      <td>No</td>\n",
       "      <td>Mailed check</td>\n",
       "      <td>Yes</td>\n",
       "      <td>No</td>\n",
       "    </tr>\n",
       "    <tr>\n",
       "      <th>2</th>\n",
       "      <td>No</td>\n",
       "      <td>0</td>\n",
       "      <td>No</td>\n",
       "      <td>DSL</td>\n",
       "      <td>f</td>\n",
       "      <td>No</td>\n",
       "      <td>No</td>\n",
       "      <td>Mailed check</td>\n",
       "      <td>Yes</td>\n",
       "      <td>Yes</td>\n",
       "    </tr>\n",
       "    <tr>\n",
       "      <th>3</th>\n",
       "      <td>No</td>\n",
       "      <td>0</td>\n",
       "      <td>No phone service</td>\n",
       "      <td>DSL</td>\n",
       "      <td>m</td>\n",
       "      <td>No</td>\n",
       "      <td>No</td>\n",
       "      <td>Bank transfer (automatic)</td>\n",
       "      <td>No</td>\n",
       "      <td>No</td>\n",
       "    </tr>\n",
       "    <tr>\n",
       "      <th>4</th>\n",
       "      <td>No</td>\n",
       "      <td>0</td>\n",
       "      <td>No</td>\n",
       "      <td>Fiber optic</td>\n",
       "      <td>f</td>\n",
       "      <td>No</td>\n",
       "      <td>No</td>\n",
       "      <td>Electronic check</td>\n",
       "      <td>Yes</td>\n",
       "      <td>Yes</td>\n",
       "    </tr>\n",
       "  </tbody>\n",
       "</table>\n",
       "</div>"
      ],
      "text/plain": [
       "  Marrital_Status Senior_Citizen Morethan1Connection Internet_Service gender  \\\n",
       "0             Yes              0    No phone service              DSL      f   \n",
       "1              No              0                  No              DSL      m   \n",
       "2              No              0                  No              DSL      f   \n",
       "3              No              0    No phone service              DSL      m   \n",
       "4              No              0                  No      Fiber optic      f   \n",
       "\n",
       "  MovieAccount LiveTVService            MethodOfPayment Service_Phone Ebill  \n",
       "0           No            No           Electronic check            No   Yes  \n",
       "1           No            No               Mailed check           Yes    No  \n",
       "2           No            No               Mailed check           Yes   Yes  \n",
       "3           No            No  Bank transfer (automatic)            No    No  \n",
       "4           No            No           Electronic check           Yes   Yes  "
      ]
     },
     "execution_count": 26,
     "metadata": {},
     "output_type": "execute_result"
    }
   ],
   "source": [
    "temp[final_selection_cat].head()"
   ]
  },
  {
   "cell_type": "markdown",
   "metadata": {},
   "source": [
    "### Final data preparation with one-hot encoding"
   ]
  },
  {
   "cell_type": "code",
   "execution_count": 27,
   "metadata": {},
   "outputs": [
    {
     "data": {
      "text/html": [
       "<div>\n",
       "<style scoped>\n",
       "    .dataframe tbody tr th:only-of-type {\n",
       "        vertical-align: middle;\n",
       "    }\n",
       "\n",
       "    .dataframe tbody tr th {\n",
       "        vertical-align: top;\n",
       "    }\n",
       "\n",
       "    .dataframe thead th {\n",
       "        text-align: right;\n",
       "    }\n",
       "</style>\n",
       "<table border=\"1\" class=\"dataframe\">\n",
       "  <thead>\n",
       "    <tr style=\"text-align: right;\">\n",
       "      <th></th>\n",
       "      <th>Marrital_Status_No</th>\n",
       "      <th>Marrital_Status_Yes</th>\n",
       "      <th>Senior_Citizen_0</th>\n",
       "      <th>Senior_Citizen_1</th>\n",
       "      <th>Morethan1Connection_No</th>\n",
       "      <th>Morethan1Connection_No phone service</th>\n",
       "      <th>Morethan1Connection_Yes</th>\n",
       "      <th>Internet_Service_DSL</th>\n",
       "      <th>Internet_Service_Fiber optic</th>\n",
       "      <th>Internet_Service_No</th>\n",
       "      <th>gender_f</th>\n",
       "      <th>gender_m</th>\n",
       "      <th>MovieAccount_No</th>\n",
       "      <th>MovieAccount_No internet service</th>\n",
       "      <th>MovieAccount_Yes</th>\n",
       "      <th>LiveTVService_No</th>\n",
       "      <th>LiveTVService_No internet service</th>\n",
       "      <th>LiveTVService_Yes</th>\n",
       "      <th>MethodOfPayment_Bank transfer (automatic)</th>\n",
       "      <th>MethodOfPayment_Credit card (automatic)</th>\n",
       "      <th>MethodOfPayment_Electronic check</th>\n",
       "      <th>MethodOfPayment_Mailed check</th>\n",
       "      <th>Service_Phone_No</th>\n",
       "      <th>Service_Phone_Yes</th>\n",
       "      <th>Ebill_No</th>\n",
       "      <th>Ebill_Yes</th>\n",
       "    </tr>\n",
       "  </thead>\n",
       "  <tbody>\n",
       "    <tr>\n",
       "      <th>0</th>\n",
       "      <td>0.0</td>\n",
       "      <td>1.0</td>\n",
       "      <td>1.0</td>\n",
       "      <td>0.0</td>\n",
       "      <td>0.0</td>\n",
       "      <td>1.0</td>\n",
       "      <td>0.0</td>\n",
       "      <td>1.0</td>\n",
       "      <td>0.0</td>\n",
       "      <td>0.0</td>\n",
       "      <td>1.0</td>\n",
       "      <td>0.0</td>\n",
       "      <td>1.0</td>\n",
       "      <td>0.0</td>\n",
       "      <td>0.0</td>\n",
       "      <td>1.0</td>\n",
       "      <td>0.0</td>\n",
       "      <td>0.0</td>\n",
       "      <td>0.0</td>\n",
       "      <td>0.0</td>\n",
       "      <td>1.0</td>\n",
       "      <td>0.0</td>\n",
       "      <td>1.0</td>\n",
       "      <td>0.0</td>\n",
       "      <td>0.0</td>\n",
       "      <td>1.0</td>\n",
       "    </tr>\n",
       "    <tr>\n",
       "      <th>1</th>\n",
       "      <td>1.0</td>\n",
       "      <td>0.0</td>\n",
       "      <td>1.0</td>\n",
       "      <td>0.0</td>\n",
       "      <td>1.0</td>\n",
       "      <td>0.0</td>\n",
       "      <td>0.0</td>\n",
       "      <td>1.0</td>\n",
       "      <td>0.0</td>\n",
       "      <td>0.0</td>\n",
       "      <td>0.0</td>\n",
       "      <td>1.0</td>\n",
       "      <td>1.0</td>\n",
       "      <td>0.0</td>\n",
       "      <td>0.0</td>\n",
       "      <td>1.0</td>\n",
       "      <td>0.0</td>\n",
       "      <td>0.0</td>\n",
       "      <td>0.0</td>\n",
       "      <td>0.0</td>\n",
       "      <td>0.0</td>\n",
       "      <td>1.0</td>\n",
       "      <td>0.0</td>\n",
       "      <td>1.0</td>\n",
       "      <td>1.0</td>\n",
       "      <td>0.0</td>\n",
       "    </tr>\n",
       "    <tr>\n",
       "      <th>2</th>\n",
       "      <td>1.0</td>\n",
       "      <td>0.0</td>\n",
       "      <td>1.0</td>\n",
       "      <td>0.0</td>\n",
       "      <td>1.0</td>\n",
       "      <td>0.0</td>\n",
       "      <td>0.0</td>\n",
       "      <td>1.0</td>\n",
       "      <td>0.0</td>\n",
       "      <td>0.0</td>\n",
       "      <td>1.0</td>\n",
       "      <td>0.0</td>\n",
       "      <td>1.0</td>\n",
       "      <td>0.0</td>\n",
       "      <td>0.0</td>\n",
       "      <td>1.0</td>\n",
       "      <td>0.0</td>\n",
       "      <td>0.0</td>\n",
       "      <td>0.0</td>\n",
       "      <td>0.0</td>\n",
       "      <td>0.0</td>\n",
       "      <td>1.0</td>\n",
       "      <td>0.0</td>\n",
       "      <td>1.0</td>\n",
       "      <td>0.0</td>\n",
       "      <td>1.0</td>\n",
       "    </tr>\n",
       "    <tr>\n",
       "      <th>3</th>\n",
       "      <td>1.0</td>\n",
       "      <td>0.0</td>\n",
       "      <td>1.0</td>\n",
       "      <td>0.0</td>\n",
       "      <td>0.0</td>\n",
       "      <td>1.0</td>\n",
       "      <td>0.0</td>\n",
       "      <td>1.0</td>\n",
       "      <td>0.0</td>\n",
       "      <td>0.0</td>\n",
       "      <td>0.0</td>\n",
       "      <td>1.0</td>\n",
       "      <td>1.0</td>\n",
       "      <td>0.0</td>\n",
       "      <td>0.0</td>\n",
       "      <td>1.0</td>\n",
       "      <td>0.0</td>\n",
       "      <td>0.0</td>\n",
       "      <td>1.0</td>\n",
       "      <td>0.0</td>\n",
       "      <td>0.0</td>\n",
       "      <td>0.0</td>\n",
       "      <td>1.0</td>\n",
       "      <td>0.0</td>\n",
       "      <td>1.0</td>\n",
       "      <td>0.0</td>\n",
       "    </tr>\n",
       "    <tr>\n",
       "      <th>4</th>\n",
       "      <td>1.0</td>\n",
       "      <td>0.0</td>\n",
       "      <td>1.0</td>\n",
       "      <td>0.0</td>\n",
       "      <td>1.0</td>\n",
       "      <td>0.0</td>\n",
       "      <td>0.0</td>\n",
       "      <td>0.0</td>\n",
       "      <td>1.0</td>\n",
       "      <td>0.0</td>\n",
       "      <td>1.0</td>\n",
       "      <td>0.0</td>\n",
       "      <td>1.0</td>\n",
       "      <td>0.0</td>\n",
       "      <td>0.0</td>\n",
       "      <td>1.0</td>\n",
       "      <td>0.0</td>\n",
       "      <td>0.0</td>\n",
       "      <td>0.0</td>\n",
       "      <td>0.0</td>\n",
       "      <td>1.0</td>\n",
       "      <td>0.0</td>\n",
       "      <td>0.0</td>\n",
       "      <td>1.0</td>\n",
       "      <td>0.0</td>\n",
       "      <td>1.0</td>\n",
       "    </tr>\n",
       "  </tbody>\n",
       "</table>\n",
       "</div>"
      ],
      "text/plain": [
       "   Marrital_Status_No  Marrital_Status_Yes  Senior_Citizen_0  \\\n",
       "0                 0.0                  1.0               1.0   \n",
       "1                 1.0                  0.0               1.0   \n",
       "2                 1.0                  0.0               1.0   \n",
       "3                 1.0                  0.0               1.0   \n",
       "4                 1.0                  0.0               1.0   \n",
       "\n",
       "   Senior_Citizen_1  Morethan1Connection_No  \\\n",
       "0               0.0                     0.0   \n",
       "1               0.0                     1.0   \n",
       "2               0.0                     1.0   \n",
       "3               0.0                     0.0   \n",
       "4               0.0                     1.0   \n",
       "\n",
       "   Morethan1Connection_No phone service  Morethan1Connection_Yes  \\\n",
       "0                                   1.0                      0.0   \n",
       "1                                   0.0                      0.0   \n",
       "2                                   0.0                      0.0   \n",
       "3                                   1.0                      0.0   \n",
       "4                                   0.0                      0.0   \n",
       "\n",
       "   Internet_Service_DSL  Internet_Service_Fiber optic  Internet_Service_No  \\\n",
       "0                   1.0                           0.0                  0.0   \n",
       "1                   1.0                           0.0                  0.0   \n",
       "2                   1.0                           0.0                  0.0   \n",
       "3                   1.0                           0.0                  0.0   \n",
       "4                   0.0                           1.0                  0.0   \n",
       "\n",
       "   gender_f  gender_m  MovieAccount_No  MovieAccount_No internet service  \\\n",
       "0       1.0       0.0              1.0                               0.0   \n",
       "1       0.0       1.0              1.0                               0.0   \n",
       "2       1.0       0.0              1.0                               0.0   \n",
       "3       0.0       1.0              1.0                               0.0   \n",
       "4       1.0       0.0              1.0                               0.0   \n",
       "\n",
       "   MovieAccount_Yes  LiveTVService_No  LiveTVService_No internet service  \\\n",
       "0               0.0               1.0                                0.0   \n",
       "1               0.0               1.0                                0.0   \n",
       "2               0.0               1.0                                0.0   \n",
       "3               0.0               1.0                                0.0   \n",
       "4               0.0               1.0                                0.0   \n",
       "\n",
       "   LiveTVService_Yes  MethodOfPayment_Bank transfer (automatic)  \\\n",
       "0                0.0                                        0.0   \n",
       "1                0.0                                        0.0   \n",
       "2                0.0                                        0.0   \n",
       "3                0.0                                        1.0   \n",
       "4                0.0                                        0.0   \n",
       "\n",
       "   MethodOfPayment_Credit card (automatic)  MethodOfPayment_Electronic check  \\\n",
       "0                                      0.0                               1.0   \n",
       "1                                      0.0                               0.0   \n",
       "2                                      0.0                               0.0   \n",
       "3                                      0.0                               0.0   \n",
       "4                                      0.0                               1.0   \n",
       "\n",
       "   MethodOfPayment_Mailed check  Service_Phone_No  Service_Phone_Yes  \\\n",
       "0                           0.0               1.0                0.0   \n",
       "1                           1.0               0.0                1.0   \n",
       "2                           1.0               0.0                1.0   \n",
       "3                           0.0               1.0                0.0   \n",
       "4                           0.0               0.0                1.0   \n",
       "\n",
       "   Ebill_No  Ebill_Yes  \n",
       "0       0.0        1.0  \n",
       "1       1.0        0.0  \n",
       "2       0.0        1.0  \n",
       "3       1.0        0.0  \n",
       "4       0.0        1.0  "
      ]
     },
     "execution_count": 27,
     "metadata": {},
     "output_type": "execute_result"
    }
   ],
   "source": [
    "from sklearn.preprocessing import OneHotEncoder\n",
    "enc = OneHotEncoder(sparse = False)\n",
    "dummydata = enc.fit_transform(temp[final_selection_cat])\n",
    "dummydata = pd.DataFrame(dummydata)\n",
    "names = enc.get_feature_names(input_features=list(final_selection_cat))\n",
    "dummydata.columns = names\n",
    "dummydata.head()"
   ]
  },
  {
   "cell_type": "code",
   "execution_count": 28,
   "metadata": {},
   "outputs": [],
   "source": [
    "X_num=temp[final_selection_num]\n",
    "X_log=pd.concat([X_num,dummydata], axis=1)\n"
   ]
  },
  {
   "cell_type": "markdown",
   "metadata": {},
   "source": [
    "### Model Development and Validation"
   ]
  },
  {
   "cell_type": "code",
   "execution_count": 29,
   "metadata": {},
   "outputs": [],
   "source": [
    "RANDOM_SEED = 1\n",
    "X_train, X_test, y_train, y_test = train_test_split(X_log, y, test_size=0.33, random_state=RANDOM_SEED)"
   ]
  },
  {
   "cell_type": "code",
   "execution_count": 30,
   "metadata": {},
   "outputs": [],
   "source": [
    "import statsmodels.api as sm\n",
    "X_train = sm.add_constant(X_train)\n",
    "X_test = sm.add_constant(X_test)\n",
    "glm_binom = sm.GLM(y_train,X_train,family=sm.families.Binomial())\n",
    "#The glm() function fits generalized linear models, a class of models that includes logistic regression. \n",
    "#The syntax of the glm() function is similar to that of lm(), except that we must pass in the argument family=sm.families.Binomial() in order to tell python to run a logistic regression rather than some other type of generalized linear model.\n",
    "res = glm_binom.fit()"
   ]
  },
  {
   "cell_type": "code",
   "execution_count": 31,
   "metadata": {},
   "outputs": [
    {
     "name": "stdout",
     "output_type": "stream",
     "text": [
      "                            Results: Generalized linear model\n",
      "==========================================================================================\n",
      "Model:                        GLM                      AIC:                    7903.1140  \n",
      "Link Function:                logit                    BIC:                    -72272.6059\n",
      "Dependent Variable:           Churn                    Log-Likelihood:         -3935.6    \n",
      "Date:                         2021-07-26 12:42         LL-Null:                -5129.9    \n",
      "No. Observations:             8836                     Deviance:               7871.1     \n",
      "Df Model:                     15                       Pearson chi2:           8.47e+03   \n",
      "Df Residuals:                 8820                     Scale:                  1.0000     \n",
      "Method:                       IRLS                                                        \n",
      "------------------------------------------------------------------------------------------\n",
      "                                           Coef.  Std.Err.    z     P>|z|   [0.025  0.975]\n",
      "------------------------------------------------------------------------------------------\n",
      "const                                      0.3764   0.0258  14.5719 0.0000  0.3258  0.4270\n",
      "TotalChargesTillDate                      -0.9091   0.0254 -35.7725 0.0000 -0.9589 -0.8593\n",
      "AverageMonthlyCharge                       0.0502   0.0016  30.8447 0.0000  0.0470  0.0534\n",
      "Marrital_Status_No                         0.2268   0.0305   7.4283 0.0000  0.1669  0.2866\n",
      "Marrital_Status_Yes                        0.1496   0.0334   4.4739 0.0000  0.0841  0.2151\n",
      "Senior_Citizen_0                           0.0751   0.0367   2.0480 0.0406  0.0032  0.1470\n",
      "Senior_Citizen_1                           0.3012   0.0418   7.2041 0.0000  0.2193  0.3832\n",
      "Morethan1Connection_No                    -0.0805   0.0346  -2.3252 0.0201 -0.1484 -0.0127\n",
      "Morethan1Connection_No phone service       0.3575   0.0362   9.8739 0.0000  0.2865  0.4285\n",
      "Morethan1Connection_Yes                    0.0994   0.0384   2.5892 0.0096  0.0242  0.1747\n",
      "Internet_Service_DSL                       0.0133   0.0402   0.3317 0.7401 -0.0655  0.0922\n",
      "Internet_Service_Fiber optic               0.2174   0.0428   5.0803 0.0000  0.1335  0.3013\n",
      "Internet_Service_No                        0.1456   0.0227   6.4138 0.0000  0.1011  0.1901\n",
      "gender_f                                   0.2076   0.0313   6.6366 0.0000  0.1463  0.2688\n",
      "gender_m                                   0.1688   0.0306   5.5148 0.0000  0.1088  0.2288\n",
      "MovieAccount_No                            0.1595   0.0361   4.4179 0.0000  0.0887  0.2303\n",
      "MovieAccount_No internet service           0.1456   0.0227   6.4138 0.0000  0.1011  0.1901\n",
      "MovieAccount_Yes                           0.0713   0.0386   1.8454 0.0650 -0.0044  0.1469\n",
      "LiveTVService_No                           0.2395   0.0359   6.6786 0.0000  0.1692  0.3098\n",
      "LiveTVService_No internet service          0.1456   0.0227   6.4138 0.0000  0.1011  0.1901\n",
      "LiveTVService_Yes                         -0.0088   0.0391  -0.2248 0.8221 -0.0854  0.0678\n",
      "MethodOfPayment_Bank transfer (automatic)  0.0097   0.0547   0.1768 0.8597 -0.0975  0.1169\n",
      "MethodOfPayment_Credit card (automatic)    0.0922   0.0551   1.6738 0.0942 -0.0158  0.2002\n",
      "MethodOfPayment_Electronic check           0.3730   0.0460   8.1095 0.0000  0.2829  0.4632\n",
      "MethodOfPayment_Mailed check              -0.0985   0.0582  -1.6918 0.0907 -0.2126  0.0156\n",
      "Service_Phone_No                           0.3575   0.0362   9.8739 0.0000  0.2865  0.4285\n",
      "Service_Phone_Yes                          0.0189   0.0315   0.5995 0.5489 -0.0429  0.0806\n",
      "Ebill_No                                   0.0865   0.0344   2.5120 0.0120  0.0190  0.1540\n",
      "Ebill_Yes                                  0.2899   0.0339   8.5617 0.0000  0.2235  0.3562\n",
      "==========================================================================================\n",
      "\n"
     ]
    }
   ],
   "source": [
    "print(res.summary2())"
   ]
  },
  {
   "cell_type": "code",
   "execution_count": 32,
   "metadata": {},
   "outputs": [],
   "source": [
    "y_pred_train = res.predict(X_train)\n",
    "y_pred_test = res.predict(X_test)\n"
   ]
  },
  {
   "cell_type": "code",
   "execution_count": 33,
   "metadata": {},
   "outputs": [],
   "source": [
    "from sklearn.metrics import classification_report\n",
    "from sklearn.metrics import confusion_matrix\n",
    "\n",
    "y_pred_train_class = np.where(y_pred_train>=0.50,1,0)\n",
    "y_pred_test_class = np.where(y_pred_test>=0.50,1,0)\n"
   ]
  },
  {
   "cell_type": "code",
   "execution_count": 34,
   "metadata": {},
   "outputs": [
    {
     "name": "stdout",
     "output_type": "stream",
     "text": [
      "confusion_matrix train data\n",
      "\n",
      " [[5994  480]\n",
      " [1387  975]] \n",
      "\n",
      "confusion_matrix test data\n",
      "\n",
      " [[2972  254]\n",
      " [ 675  452]] \n",
      "\n",
      "true negative 2972\n",
      "false positive 254\n",
      "false negative 675\n",
      "true positive 452\n"
     ]
    }
   ],
   "source": [
    "\n",
    "\n",
    "confusion_matrix_train = confusion_matrix(y_train, y_pred_train_class)\n",
    "confusion_matrix_test = confusion_matrix(y_test, y_pred_test_class)\n",
    "\n",
    "print( \"confusion_matrix train data\\n\\n\",confusion_matrix_train,\"\\n\")\n",
    "print( \"confusion_matrix test data\\n\\n\",confusion_matrix_test,\"\\n\")\n",
    "tn, fp, fn, tp = confusion_matrix_test.ravel()\n",
    "print('true negative',tn)\n",
    "print('false positive',fp)\n",
    "print('false negative',fn)\n",
    "print('true positive',tp)\n"
   ]
  },
  {
   "cell_type": "code",
   "execution_count": 35,
   "metadata": {},
   "outputs": [
    {
     "name": "stdout",
     "output_type": "stream",
     "text": [
      "Classification report train data\n",
      "\n",
      "               precision    recall  f1-score   support\n",
      "\n",
      "           0       0.81      0.93      0.87      6474\n",
      "           1       0.67      0.41      0.51      2362\n",
      "\n",
      "    accuracy                           0.79      8836\n",
      "   macro avg       0.74      0.67      0.69      8836\n",
      "weighted avg       0.77      0.79      0.77      8836\n",
      "\n",
      "Classification report test data\n",
      "\n",
      "               precision    recall  f1-score   support\n",
      "\n",
      "           0       0.81      0.92      0.86      3226\n",
      "           1       0.64      0.40      0.49      1127\n",
      "\n",
      "    accuracy                           0.79      4353\n",
      "   macro avg       0.73      0.66      0.68      4353\n",
      "weighted avg       0.77      0.79      0.77      4353\n",
      "\n"
     ]
    }
   ],
   "source": [
    "\n",
    "print( \"Classification report train data\\n\\n\" ,classification_report(y_train, y_pred_train_class))\n",
    "print(\"Classification report test data\\n\\n\" ,classification_report(y_test, y_pred_test_class))\n",
    "#macro average (averaging the unweighted mean per label),\n",
    "#weighted average (averaging the support-weighted mean     per label),\n",
    "#binary classification, recall of the positive class\n",
    "#is also known as \"sensitivity\"; recall of the negative class is\"specificity\"."
   ]
  },
  {
   "cell_type": "code",
   "execution_count": 36,
   "metadata": {},
   "outputs": [
    {
     "data": {
      "image/png": "[encoded data removed]",
      "text/plain": [
       "<Figure size 576x576 with 1 Axes>"
      ]
     },
     "metadata": {},
     "output_type": "display_data"
    }
   ],
   "source": [
    "fig, ax = plt.subplots(figsize=(8, 8))\n",
    "ax.imshow(confusion_matrix_test)\n",
    "ax.grid(False)\n",
    "ax.xaxis.set(ticks=(0, 1), ticklabels=('Predicted 0s', 'Predicted 1s'))\n",
    "ax.yaxis.set(ticks=(0, 1), ticklabels=('Actual 0s', 'Actual 1s'))\n",
    "ax.set_ylim(1.5, -0.5)\n",
    "for i in range(2):\n",
    "    for j in range(2):\n",
    "        ax.text(j, i, confusion_matrix_test[i, j], ha='center', va='center', color='red', fontsize=15)\n",
    "plt.show()"
   ]
  },
  {
   "cell_type": "code",
   "execution_count": 37,
   "metadata": {},
   "outputs": [
    {
     "data": {
      "image/png": "[encoded data removed]",
      "text/plain": [
       "<Figure size 842.4x595.44 with 1 Axes>"
      ]
     },
     "metadata": {},
     "output_type": "display_data"
    }
   ],
   "source": [
    "\n",
    "from sklearn.metrics import roc_auc_score\n",
    "from sklearn.metrics import roc_curve\n",
    "logit_roc_auc = roc_auc_score(y_test, y_pred_test_class)\n",
    "fpr, tpr, thresholds = roc_curve(y_test, y_pred_test)\n",
    "plt.figure()\n",
    "plt.plot(fpr, tpr, label='Logistic Regression (area = %0.2f)' % logit_roc_auc)\n",
    "plt.plot([0, 1], [0, 1],'r--')\n",
    "plt.xlim([0.0, 1.0])\n",
    "plt.ylim([0.0, 1.05])\n",
    "plt.xlabel('False Positive Rate')\n",
    "plt.ylabel('True Positive Rate')\n",
    "plt.title('Receiver operating characteristic')\n",
    "plt.legend(loc=\"lower right\")\n",
    "plt.savefig('Log_ROC')\n",
    "plt.show()"
   ]
  },
  {
   "cell_type": "code",
   "execution_count": 38,
   "metadata": {},
   "outputs": [],
   "source": [
    "os.chdir('C:\\\\Users\\\\ankit\\\\Teaching with Vijay\\\\Logistic Regression')\n",
    "y_pred_test= pd.DataFrame(y_pred_test,columns = ['prob of class 1'])\n",
    "y_pred_test = y_pred_test.reset_index(drop=True)\n",
    "y_test.columns = ['actual']\n",
    "y_test = y_test.reset_index(drop=True)\n",
    "\n",
    "pd.concat([y_pred_test,y_test],axis=1).to_excel('results.xlsx')"
   ]
  },
  {
   "cell_type": "code",
   "execution_count": null,
   "metadata": {},
   "outputs": [],
   "source": []
  },
  {
   "cell_type": "code",
   "execution_count": null,
   "metadata": {},
   "outputs": [],
   "source": []
  },
  {
   "cell_type": "markdown",
   "metadata": {},
   "source": [
    "### Model Development and Validation using sklearn"
   ]
  },
  {
   "cell_type": "code",
   "execution_count": 39,
   "metadata": {},
   "outputs": [],
   "source": [
    "RANDOM_SEED = 1\n",
    "X_train, X_test, y_train, y_test = train_test_split(X_log, y, test_size=0.33, random_state=RANDOM_SEED)"
   ]
  },
  {
   "cell_type": "code",
   "execution_count": 40,
   "metadata": {},
   "outputs": [
    {
     "data": {
      "text/plain": [
       "LogisticRegression(C=1.0, class_weight=None, dual=False, fit_intercept=True,\n",
       "                   intercept_scaling=1, l1_ratio=None, max_iter=100,\n",
       "                   multi_class='auto', n_jobs=None, penalty='l2',\n",
       "                   random_state=None, solver='lbfgs', tol=0.0001, verbose=0,\n",
       "                   warm_start=False)"
      ]
     },
     "execution_count": 40,
     "metadata": {},
     "output_type": "execute_result"
    }
   ],
   "source": [
    "from sklearn.linear_model import LogisticRegression\n",
    "# all parameters not specified are set to their defaults\n",
    "logisticRegr = LogisticRegression()\n",
    "logisticRegr.fit(X_train, y_train)"
   ]
  },
  {
   "cell_type": "code",
   "execution_count": 41,
   "metadata": {},
   "outputs": [
    {
     "name": "stdout",
     "output_type": "stream",
     "text": [
      "model intetercept\n",
      "\n",
      " [0.37875853]\n",
      "model coefficients\n",
      "\n",
      " [[-0.90805997  0.05016662  0.22570417  0.14873567  0.0739909   0.30044894\n",
      "  -0.07951941  0.35515094  0.09880832  0.01332225  0.21650835  0.14460925\n",
      "   0.20664169  0.16779816  0.1591936   0.14460925  0.070637    0.2387808\n",
      "   0.14460925 -0.0089502   0.00996986  0.09196815  0.37123052 -0.09872867\n",
      "   0.35515094  0.01928891  0.08548805  0.2889518 ]]\n"
     ]
    }
   ],
   "source": [
    "print('model intetercept\\n\\n',logisticRegr.intercept_)\n",
    "print('model coefficients\\n\\n',logisticRegr.coef_)"
   ]
  },
  {
   "cell_type": "code",
   "execution_count": 42,
   "metadata": {},
   "outputs": [
    {
     "name": "stdout",
     "output_type": "stream",
     "text": [
      "Classification report train data\n",
      "\n",
      "               precision    recall  f1-score   support\n",
      "\n",
      "           0       0.81      0.93      0.87      6474\n",
      "           1       0.67      0.41      0.51      2362\n",
      "\n",
      "    accuracy                           0.79      8836\n",
      "   macro avg       0.74      0.67      0.69      8836\n",
      "weighted avg       0.77      0.79      0.77      8836\n",
      "\n",
      "Classification report test data\n",
      "\n",
      "               precision    recall  f1-score   support\n",
      "\n",
      "           0       0.81      0.92      0.86      3226\n",
      "           1       0.64      0.40      0.49      1127\n",
      "\n",
      "    accuracy                           0.79      4353\n",
      "   macro avg       0.73      0.66      0.68      4353\n",
      "weighted avg       0.77      0.79      0.77      4353\n",
      "\n"
     ]
    }
   ],
   "source": [
    "from sklearn.metrics import classification_report\n",
    "from sklearn.metrics import confusion_matrix\n",
    "\n",
    "predictions_train = logisticRegr.predict(X_train)\n",
    "predictions_test = logisticRegr.predict(X_test)\n",
    "\n",
    "print( \"Classification report train data\\n\\n\" ,classification_report(y_train, predictions_train))\n",
    "print(\"Classification report test data\\n\\n\" ,classification_report(y_test, predictions_test))\n"
   ]
  },
  {
   "cell_type": "code",
   "execution_count": 43,
   "metadata": {},
   "outputs": [
    {
     "data": {
      "image/png": "[encoded data removed]",
      "text/plain": [
       "<Figure size 576x576 with 1 Axes>"
      ]
     },
     "metadata": {},
     "output_type": "display_data"
    }
   ],
   "source": [
    "fig, ax = plt.subplots(figsize=(8, 8))\n",
    "ax.imshow(confusion_matrix_test)\n",
    "ax.grid(False)\n",
    "ax.xaxis.set(ticks=(0, 1), ticklabels=('Predicted 0s', 'Predicted 1s'))\n",
    "ax.yaxis.set(ticks=(0, 1), ticklabels=('Actual 0s', 'Actual 1s'))\n",
    "ax.set_ylim(1.5, -0.5)\n",
    "for i in range(2):\n",
    "    for j in range(2):\n",
    "        ax.text(j, i, confusion_matrix_test[i, j], ha='center', va='center', color='red', fontsize=15)\n",
    "plt.show()"
   ]
  },
  {
   "cell_type": "code",
   "execution_count": 44,
   "metadata": {},
   "outputs": [
    {
     "data": {
      "image/png": "[encoded data removed]",
      "text/plain": [
       "<Figure size 842.4x595.44 with 1 Axes>"
      ]
     },
     "metadata": {},
     "output_type": "display_data"
    }
   ],
   "source": [
    "\n",
    "from sklearn.metrics import roc_auc_score\n",
    "from sklearn.metrics import roc_curve\n",
    "logit_roc_auc = roc_auc_score(y_test, predictions_test)\n",
    "fpr, tpr, thresholds = roc_curve(y_test, predictions_test)\n",
    "plt.figure()\n",
    "plt.plot(fpr, tpr, label='Logistic Regression (area = %0.2f)' % logit_roc_auc)\n",
    "plt.plot([0, 1], [0, 1],'r--')\n",
    "plt.xlim([0.0, 1.0])\n",
    "plt.ylim([0.0, 1.05])\n",
    "plt.xlabel('False Positive Rate')\n",
    "plt.ylabel('True Positive Rate')\n",
    "plt.title('Receiver operating characteristic')\n",
    "plt.legend(loc=\"lower right\")\n",
    "plt.savefig('Log_ROC')\n",
    "plt.show()"
   ]
  },
  {
   "cell_type": "markdown",
   "metadata": {},
   "source": [
    "#### Checking performance on different value of C\n",
    "\n",
    "Lets try to see example of underfit where training error as well as test error will be high"
   ]
  },
  {
   "cell_type": "code",
   "execution_count": 45,
   "metadata": {},
   "outputs": [
    {
     "data": {
      "text/plain": [
       "LogisticRegression(C=0.001, class_weight=None, dual=False, fit_intercept=True,\n",
       "                   intercept_scaling=1, l1_ratio=None, max_iter=100,\n",
       "                   multi_class='auto', n_jobs=None, penalty='l2',\n",
       "                   random_state=None, solver='lbfgs', tol=0.0001, verbose=0,\n",
       "                   warm_start=False)"
      ]
     },
     "execution_count": 45,
     "metadata": {},
     "output_type": "execute_result"
    }
   ],
   "source": [
    "from sklearn.linear_model import LogisticRegression\n",
    "# all parameters not specified are set to their defaults\n",
    "logisticRegr = LogisticRegression(C=0.001)\n",
    "logisticRegr.fit(X_train, y_train)"
   ]
  },
  {
   "cell_type": "code",
   "execution_count": 46,
   "metadata": {},
   "outputs": [
    {
     "name": "stdout",
     "output_type": "stream",
     "text": [
      "Classification report train data\n",
      "\n",
      "               precision    recall  f1-score   support\n",
      "\n",
      "           0       0.79      0.96      0.87      6474\n",
      "           1       0.72      0.30      0.42      2362\n",
      "\n",
      "    accuracy                           0.78      8836\n",
      "   macro avg       0.76      0.63      0.64      8836\n",
      "weighted avg       0.77      0.78      0.75      8836\n",
      "\n",
      "Classification report test data\n",
      "\n",
      "               precision    recall  f1-score   support\n",
      "\n",
      "           0       0.79      0.96      0.87      3226\n",
      "           1       0.70      0.28      0.40      1127\n",
      "\n",
      "    accuracy                           0.78      4353\n",
      "   macro avg       0.75      0.62      0.63      4353\n",
      "weighted avg       0.77      0.78      0.75      4353\n",
      "\n"
     ]
    }
   ],
   "source": [
    "from sklearn.metrics import classification_report\n",
    "from sklearn.metrics import confusion_matrix\n",
    "\n",
    "predictions_train = logisticRegr.predict(X_train)\n",
    "predictions_test = logisticRegr.predict(X_test)\n",
    "\n",
    "print( \"Classification report train data\\n\\n\" ,classification_report(y_train, predictions_train))\n",
    "print(\"Classification report test data\\n\\n\" ,classification_report(y_test, predictions_test))\n"
   ]
  },
  {
   "cell_type": "code",
   "execution_count": 47,
   "metadata": {},
   "outputs": [
    {
     "data": {
      "image/png": "[encoded data removed]",
      "text/plain": [
       "<Figure size 842.4x595.44 with 1 Axes>"
      ]
     },
     "metadata": {},
     "output_type": "display_data"
    }
   ],
   "source": [
    "\n",
    "from sklearn.metrics import roc_auc_score\n",
    "from sklearn.metrics import roc_curve\n",
    "logit_roc_auc = roc_auc_score(y_test, predictions_test)\n",
    "fpr, tpr, thresholds = roc_curve(y_test, predictions_test)\n",
    "plt.figure()\n",
    "plt.plot(fpr, tpr, label='Logistic Regression (area = %0.2f)' % logit_roc_auc)\n",
    "plt.plot([0, 1], [0, 1],'r--')\n",
    "plt.xlim([0.0, 1.0])\n",
    "plt.ylim([0.0, 1.05])\n",
    "plt.xlabel('False Positive Rate')\n",
    "plt.ylabel('True Positive Rate')\n",
    "plt.title('Receiver operating characteristic')\n",
    "plt.legend(loc=\"lower right\")\n",
    "plt.savefig('Log_ROC')\n",
    "plt.show()"
   ]
  },
  {
   "cell_type": "code",
   "execution_count": null,
   "metadata": {},
   "outputs": [],
   "source": []
  }
 ],
 "metadata": {
  "kernelspec": {
   "display_name": "Python 3",
   "language": "python",
   "name": "python3"
  },
  "language_info": {
   "codemirror_mode": {
    "name": "ipython",
    "version": 3
   },
   "file_extension": ".py",
   "mimetype": "text/x-python",
   "name": "python",
   "nbconvert_exporter": "python",
   "pygments_lexer": "ipython3",
   "version": "3.7.6"
  }
 },
 "nbformat": 4,
 "nbformat_minor": 4
}
