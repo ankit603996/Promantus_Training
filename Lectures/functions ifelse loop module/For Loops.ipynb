{
 "cells": [
  {
   "cell_type": "markdown",
   "id": "fundamental-netherlands",
   "metadata": {},
   "source": [
    "## For example: \n",
    "- used to loop through list or string or array etc. \n",
    "- Python 'for' is not difficult like C language i.e., for (i=0; i<n; i++).\n",
    "- This “for in” loop is simpler and easier compared to other languages\n",
    "- Sequential Traversal"
   ]
  },
  {
   "cell_type": "code",
   "execution_count": 18,
   "id": "blocked-spelling",
   "metadata": {},
   "outputs": [
    {
     "name": "stdout",
     "output_type": "stream",
     "text": [
      "1\n",
      "2\n",
      "3\n",
      "4\n",
      "5\n"
     ]
    }
   ],
   "source": [
    "x = [1, 2, 3, 4, 5]\n",
    "for i in x:\n",
    "    print(i)"
   ]
  },
  {
   "cell_type": "code",
   "execution_count": 19,
   "id": "dietary-server",
   "metadata": {},
   "outputs": [
    {
     "name": "stdout",
     "output_type": "stream",
     "text": [
      "p\n",
      "r\n",
      "o\n",
      "g\n",
      "r\n",
      "a\n",
      "m\n"
     ]
    }
   ],
   "source": [
    "name = \"program\"\n",
    "for i in name:\n",
    "    print(i)"
   ]
  },
  {
   "cell_type": "markdown",
   "id": "worldwide-feeding",
   "metadata": {},
   "source": [
    "### Loop through tuple"
   ]
  },
  {
   "cell_type": "code",
   "execution_count": 20,
   "id": "modern-treasury",
   "metadata": {},
   "outputs": [
    {
     "name": "stdout",
     "output_type": "stream",
     "text": [
      "10\n",
      "20\n",
      "30\n",
      "40\n",
      "50\n",
      "60\n",
      "70\n",
      "80\n",
      "90\n",
      "100\n"
     ]
    }
   ],
   "source": [
    "x = (10, 20, 30, 40, 50, 60, 70, 80, 90, 100)\n",
    "for i in x:\n",
    "    print(i)"
   ]
  },
  {
   "cell_type": "markdown",
   "id": "promising-liberal",
   "metadata": {},
   "source": [
    "### Loop through Set"
   ]
  },
  {
   "cell_type": "code",
   "execution_count": 21,
   "id": "beneficial-yemen",
   "metadata": {},
   "outputs": [
    {
     "name": "stdout",
     "output_type": "stream",
     "text": [
      "1\n",
      "2\n",
      "print\n",
      "3\n",
      "add\n"
     ]
    }
   ],
   "source": [
    "set_x = {1, \"add\", 2, \"print\", 3}\n",
    "for i in set_x:\n",
    "    print(i)"
   ]
  },
  {
   "cell_type": "markdown",
   "id": "executed-tours",
   "metadata": {},
   "source": [
    "### Loop through Dictionary"
   ]
  },
  {
   "cell_type": "code",
   "execution_count": 30,
   "id": "improving-unemployment",
   "metadata": {},
   "outputs": [
    {
     "name": "stdout",
     "output_type": "stream",
     "text": [
      "null\n",
      "k2\n",
      "k3\n",
      "k4\n"
     ]
    }
   ],
   "source": [
    "dict_x = {'null': 'Values',\n",
    "         'k2' : 'Value2',\n",
    "         'k3' : 'Value3',\n",
    "         'k4' : 'Value4'}\n",
    "for i in dict_x:\n",
    "    print(i)"
   ]
  },
  {
   "cell_type": "code",
   "execution_count": 24,
   "id": "statistical-engineering",
   "metadata": {},
   "outputs": [
    {
     "data": {
      "text/plain": [
       "dict_keys(['k1', 'k2', 'k3', 'k4'])"
      ]
     },
     "execution_count": 24,
     "metadata": {},
     "output_type": "execute_result"
    }
   ],
   "source": [
    "dict_x.keys()"
   ]
  },
  {
   "cell_type": "code",
   "execution_count": 25,
   "id": "controversial-tension",
   "metadata": {},
   "outputs": [
    {
     "data": {
      "text/plain": [
       "dict_values(['Values', 'Value2', 'Value3', 'Value4'])"
      ]
     },
     "execution_count": 25,
     "metadata": {},
     "output_type": "execute_result"
    }
   ],
   "source": [
    "dict_x.values()"
   ]
  },
  {
   "cell_type": "code",
   "execution_count": 9,
   "id": "earlier-smell",
   "metadata": {
    "scrolled": true
   },
   "outputs": [
    {
     "name": "stdout",
     "output_type": "stream",
     "text": [
      "k1 Values\n",
      "k1 Value2\n",
      "k1 Value3\n",
      "k1 Value4\n",
      "k2 Values\n",
      "k2 Value2\n",
      "k2 Value3\n",
      "k2 Value4\n",
      "k3 Values\n",
      "k3 Value2\n",
      "k3 Value3\n",
      "k3 Value4\n",
      "k4 Values\n",
      "k4 Value2\n",
      "k4 Value3\n",
      "k4 Value4\n"
     ]
    }
   ],
   "source": [
    "for i in dict_x.keys():\n",
    "    for j in dict_x.values():\n",
    "        print(i, j)"
   ]
  },
  {
   "cell_type": "code",
   "execution_count": 14,
   "id": "attached-vitamin",
   "metadata": {},
   "outputs": [
    {
     "data": {
      "text/plain": [
       "dict_keys(['k1', 'k2', 'k3', 'k4'])"
      ]
     },
     "execution_count": 14,
     "metadata": {},
     "output_type": "execute_result"
    }
   ],
   "source": [
    "dict_x.keys()"
   ]
  },
  {
   "cell_type": "code",
   "execution_count": 13,
   "id": "ongoing-kitty",
   "metadata": {
    "scrolled": true
   },
   "outputs": [
    {
     "data": {
      "text/plain": [
       "dict_values(['Values', 'Value2', 'Value3', 'Value4'])"
      ]
     },
     "execution_count": 13,
     "metadata": {},
     "output_type": "execute_result"
    }
   ],
   "source": [
    "dict_x.values()"
   ]
  },
  {
   "cell_type": "code",
   "execution_count": 26,
   "id": "personalized-secretary",
   "metadata": {
    "scrolled": true
   },
   "outputs": [
    {
     "name": "stdout",
     "output_type": "stream",
     "text": [
      "k1 Values\n",
      "k2 Value2\n",
      "k3 Value3\n",
      "k4 Value4\n"
     ]
    }
   ],
   "source": [
    "for i, j in zip(dict_x.keys(), dict_x.values()):\n",
    "    print(i, j)"
   ]
  },
  {
   "cell_type": "code",
   "execution_count": null,
   "id": "classified-loading",
   "metadata": {},
   "outputs": [],
   "source": []
  }
 ],
 "metadata": {
  "kernelspec": {
   "display_name": "Python [conda env:py37]",
   "language": "python",
   "name": "conda-env-py37-py"
  },
  "language_info": {
   "codemirror_mode": {
    "name": "ipython",
    "version": 3
   },
   "file_extension": ".py",
   "mimetype": "text/x-python",
   "name": "python",
   "nbconvert_exporter": "python",
   "pygments_lexer": "ipython3",
   "version": "3.7.10"
  }
 },
 "nbformat": 4,
 "nbformat_minor": 5
}
