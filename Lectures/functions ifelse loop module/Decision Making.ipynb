{
 "cells": [
  {
   "cell_type": "markdown",
   "id": "unnecessary-costa",
   "metadata": {},
   "source": [
    "## <font color=blue><center>Decision Making using Python</center></font>"
   ]
  },
  {
   "cell_type": "markdown",
   "id": "aware-accessory",
   "metadata": {},
   "source": [
    "## If Statement"
   ]
  },
  {
   "cell_type": "code",
   "execution_count": 20,
   "id": "derived-advisory",
   "metadata": {},
   "outputs": [],
   "source": [
    "x = 3\n",
    "if x >= 5:\n",
    "    print(\"Yes, the given number is greater than or equal to 5\")"
   ]
  },
  {
   "cell_type": "markdown",
   "id": "infinite-laptop",
   "metadata": {},
   "source": [
    "## Condition not satisfied"
   ]
  },
  {
   "cell_type": "code",
   "execution_count": 21,
   "id": "romance-florida",
   "metadata": {},
   "outputs": [],
   "source": [
    "x = 6\n",
    "if x <= 5:\n",
    "    print(\"Yes, the given number is less than or equal to 5\")"
   ]
  },
  {
   "cell_type": "code",
   "execution_count": 22,
   "id": "devoted-webcam",
   "metadata": {},
   "outputs": [
    {
     "name": "stdout",
     "output_type": "stream",
     "text": [
      "This is out of loop\n"
     ]
    }
   ],
   "source": [
    "x = 6\n",
    "if x <= 5:\n",
    "    print(\"Yes, the given number is less than or equal to 5\")\n",
    "print(\"This is out of loop\")"
   ]
  },
  {
   "cell_type": "markdown",
   "id": "every-coffee",
   "metadata": {},
   "source": [
    "# If Else : Decision Making"
   ]
  },
  {
   "cell_type": "code",
   "execution_count": 23,
   "id": "sexual-state",
   "metadata": {},
   "outputs": [
    {
     "name": "stdout",
     "output_type": "stream",
     "text": [
      "Given x is less than 5\n"
     ]
    }
   ],
   "source": [
    "x = 3\n",
    "if x >= 5:\n",
    "    print(\"Given x is greater than or equal to 5\")\n",
    "else:\n",
    "    print(\"Given x is less than 5\")"
   ]
  },
  {
   "cell_type": "markdown",
   "id": "another-clock",
   "metadata": {},
   "source": [
    "## If Else : Lets check with two variables"
   ]
  },
  {
   "cell_type": "code",
   "execution_count": 24,
   "id": "western-binary",
   "metadata": {},
   "outputs": [
    {
     "name": "stdout",
     "output_type": "stream",
     "text": [
      "Please check, anyone of the x or y should be less than 5\n"
     ]
    }
   ],
   "source": [
    "x = 3\n",
    "y = 5\n",
    "if x >= 5 and y >= 5:\n",
    "    print(\"Given x and y are greater than or equal to 5\")\n",
    "else:\n",
    "    print(\"Please check, anyone of the x or y should be less than 5\")"
   ]
  },
  {
   "cell_type": "markdown",
   "id": "secondary-nudist",
   "metadata": {},
   "source": [
    "## If elif else : Decision Making"
   ]
  },
  {
   "cell_type": "code",
   "execution_count": 25,
   "id": "alive-whale",
   "metadata": {},
   "outputs": [
    {
     "name": "stdout",
     "output_type": "stream",
     "text": [
      " x is greater than or equal to 5 but less than 10\n"
     ]
    }
   ],
   "source": [
    "x = 5\n",
    "if x >= 10:\n",
    "    print(\" x is greater than or equal to 10\")\n",
    "elif x >= 5:\n",
    "    print(\" x is greater than or equal to 5 but less than 10\")\n",
    "else:\n",
    "    print(\"x is less than 5\")"
   ]
  },
  {
   "cell_type": "markdown",
   "id": "considered-contrast",
   "metadata": {},
   "source": [
    "## Nested If Statement : Decision Making"
   ]
  },
  {
   "cell_type": "code",
   "execution_count": 26,
   "id": "republican-nothing",
   "metadata": {},
   "outputs": [
    {
     "name": "stdout",
     "output_type": "stream",
     "text": [
      "Number is greater than 30\n",
      "Number is greater than 30 and less than 50\n"
     ]
    }
   ],
   "source": [
    "x = 33\n",
    "if x >= 20:\n",
    "    if x >= 30:\n",
    "        print(\"Number is greater than 30\")\n",
    "    if x > 50:\n",
    "        print(\"Number is greater than 50\")\n",
    "    else:\n",
    "        print(\"Number is greater than 30 and less than 50\")"
   ]
  },
  {
   "cell_type": "code",
   "execution_count": null,
   "id": "innovative-hardware",
   "metadata": {},
   "outputs": [],
   "source": []
  }
 ],
 "metadata": {
  "kernelspec": {
   "display_name": "Python [conda env:py37]",
   "language": "python",
   "name": "conda-env-py37-py"
  },
  "language_info": {
   "codemirror_mode": {
    "name": "ipython",
    "version": 3
   },
   "file_extension": ".py",
   "mimetype": "text/x-python",
   "name": "python",
   "nbconvert_exporter": "python",
   "pygments_lexer": "ipython3",
   "version": "3.7.10"
  }
 },
 "nbformat": 4,
 "nbformat_minor": 5
}
