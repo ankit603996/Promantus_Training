{
 "cells": [
  {
   "cell_type": "markdown",
   "id": "metric-tactics",
   "metadata": {},
   "source": [
    "## Builtin Function"
   ]
  },
  {
   "cell_type": "code",
   "execution_count": 39,
   "id": "fixed-disaster",
   "metadata": {},
   "outputs": [
    {
     "name": "stdout",
     "output_type": "stream",
     "text": [
      "This is function Introduction\n"
     ]
    }
   ],
   "source": [
    "print(\"This is function Introduction\")"
   ]
  },
  {
   "cell_type": "markdown",
   "id": "enormous-dylan",
   "metadata": {},
   "source": [
    "## User defined function"
   ]
  },
  {
   "cell_type": "code",
   "execution_count": 40,
   "id": "incorporate-symbol",
   "metadata": {},
   "outputs": [],
   "source": [
    "def print_given_text(txt):\n",
    "    print(txt)"
   ]
  },
  {
   "cell_type": "code",
   "execution_count": 42,
   "id": "standing-arkansas",
   "metadata": {},
   "outputs": [
    {
     "name": "stdout",
     "output_type": "stream",
     "text": [
      "hello, UDF\n"
     ]
    }
   ],
   "source": [
    "print_given_text(\"hello, UDF\")"
   ]
  },
  {
   "cell_type": "markdown",
   "id": "further-agreement",
   "metadata": {},
   "source": [
    "## Suming the squares of two numbers."
   ]
  },
  {
   "cell_type": "code",
   "execution_count": 45,
   "id": "tough-activation",
   "metadata": {},
   "outputs": [
    {
     "data": {
      "text/plain": [
       "13"
      ]
     },
     "execution_count": 45,
     "metadata": {},
     "output_type": "execute_result"
    }
   ],
   "source": [
    "a = 2\n",
    "b = 3\n",
    "(a**2) + (b**2)"
   ]
  },
  {
   "cell_type": "code",
   "execution_count": 46,
   "id": "ranging-pottery",
   "metadata": {},
   "outputs": [
    {
     "data": {
      "text/plain": [
       "25"
      ]
     },
     "execution_count": 46,
     "metadata": {},
     "output_type": "execute_result"
    }
   ],
   "source": [
    "a = 3\n",
    "b = 4\n",
    "(a**2) + (b**2)"
   ]
  },
  {
   "cell_type": "code",
   "execution_count": 47,
   "id": "italic-chance",
   "metadata": {},
   "outputs": [
    {
     "data": {
      "text/plain": [
       "41"
      ]
     },
     "execution_count": 47,
     "metadata": {},
     "output_type": "execute_result"
    }
   ],
   "source": [
    "a = 4\n",
    "b = 5\n",
    "(a**2) + (b**2)"
   ]
  },
  {
   "cell_type": "code",
   "execution_count": 51,
   "id": "published-spoke",
   "metadata": {},
   "outputs": [],
   "source": [
    "def sum_square(a, b):\n",
    "    \"\"\"\n",
    "    This function returns the sum of squares of given 2 numbers\n",
    "    \"\"\"\n",
    "    sum = (a**2) + (b**2)\n",
    "    return sum"
   ]
  },
  {
   "cell_type": "code",
   "execution_count": 53,
   "id": "brave-sperm",
   "metadata": {},
   "outputs": [
    {
     "name": "stdout",
     "output_type": "stream",
     "text": [
      "False\n",
      "True\n",
      "True\n"
     ]
    }
   ],
   "source": [
    "print(sum_square(1, 1))\n",
    "print(sum_square(3, 4))\n",
    "print(sum_square(4, 5))"
   ]
  },
  {
   "cell_type": "code",
   "execution_count": 76,
   "id": "human-tonight",
   "metadata": {},
   "outputs": [],
   "source": [
    "def check_sum(a, b):\n",
    "    \"\"\"\n",
    "    This function check the sum of squares of given 2 numbers is greater or equal to 100\n",
    "    \"\"\"\n",
    "    sum = (a**2) + (b**2)\n",
    "    if sum >= 100:\n",
    "        return True\n",
    "    else:\n",
    "        return False"
   ]
  },
  {
   "cell_type": "code",
   "execution_count": 57,
   "id": "african-arizona",
   "metadata": {},
   "outputs": [
    {
     "data": {
      "text/plain": [
       "True"
      ]
     },
     "execution_count": 57,
     "metadata": {},
     "output_type": "execute_result"
    }
   ],
   "source": [
    "sum_square_check_100(10, 10)"
   ]
  },
  {
   "cell_type": "code",
   "execution_count": 67,
   "id": "unauthorized-march",
   "metadata": {
    "scrolled": true
   },
   "outputs": [
    {
     "data": {
      "text/plain": [
       "'\\n    This function returns the sum of squares of given 2 numbers\\n    '"
      ]
     },
     "execution_count": 67,
     "metadata": {},
     "output_type": "execute_result"
    }
   ],
   "source": [
    "sum_square.__doc__"
   ]
  },
  {
   "cell_type": "code",
   "execution_count": 78,
   "id": "considered-permission",
   "metadata": {},
   "outputs": [
    {
     "data": {
      "text/plain": [
       "'\\n    This function check the sum of squares of given 2 numbers is greater or equal to 100\\n    '"
      ]
     },
     "execution_count": 78,
     "metadata": {},
     "output_type": "execute_result"
    }
   ],
   "source": [
    "check_sum.__doc__"
   ]
  },
  {
   "cell_type": "markdown",
   "id": "textile-tuner",
   "metadata": {},
   "source": [
    "## Anonymous Function"
   ]
  },
  {
   "cell_type": "code",
   "execution_count": 64,
   "id": "lovely-presentation",
   "metadata": {},
   "outputs": [],
   "source": [
    "sum_square_lamb = lambda x, y, z:(x**2) + (y**2) + (z**2)"
   ]
  },
  {
   "cell_type": "code",
   "execution_count": 65,
   "id": "indie-record",
   "metadata": {},
   "outputs": [
    {
     "data": {
      "text/plain": [
       "29"
      ]
     },
     "execution_count": 65,
     "metadata": {},
     "output_type": "execute_result"
    }
   ],
   "source": [
    "sum_square_lamb(2, 3, 4)"
   ]
  },
  {
   "cell_type": "markdown",
   "id": "lovely-roommate",
   "metadata": {},
   "source": [
    "## Required Argument"
   ]
  },
  {
   "cell_type": "code",
   "execution_count": 79,
   "id": "waiting-eligibility",
   "metadata": {},
   "outputs": [],
   "source": [
    "def print_candidate_info(name, age):\n",
    "    \"\"\"\n",
    "    Function to print the given name and age of the candidate\n",
    "    Input Parameters: name, age\n",
    "    \"\"\"\n",
    "    print(\"Name of the Candidate: {}\".format(name))\n",
    "    print(\"Name of the age: {}\".format(age))"
   ]
  },
  {
   "cell_type": "code",
   "execution_count": 80,
   "id": "suburban-links",
   "metadata": {},
   "outputs": [
    {
     "name": "stdout",
     "output_type": "stream",
     "text": [
      "Name of the Candidate: Promanthus\n",
      "Name of the age: 21\n"
     ]
    }
   ],
   "source": [
    "print_candidate_info(\"Promanthus\", 21)"
   ]
  },
  {
   "cell_type": "code",
   "execution_count": 81,
   "id": "fifteen-click",
   "metadata": {},
   "outputs": [
    {
     "name": "stdout",
     "output_type": "stream",
     "text": [
      "Name of the Candidate: 21\n",
      "Name of the age: Promanthus\n"
     ]
    }
   ],
   "source": [
    "print_candidate_info(21, \"Promanthus\")"
   ]
  },
  {
   "cell_type": "code",
   "execution_count": 86,
   "id": "removable-remove",
   "metadata": {},
   "outputs": [
    {
     "ename": "TypeError",
     "evalue": "print_candidate_info() missing 2 required positional arguments: 'name' and 'age'",
     "output_type": "error",
     "traceback": [
      "\u001b[1;31m---------------------------------------------------------------------------\u001b[0m",
      "\u001b[1;31mTypeError\u001b[0m                                 Traceback (most recent call last)",
      "\u001b[1;32m<ipython-input-86-abe4c2abc205>\u001b[0m in \u001b[0;36m<module>\u001b[1;34m\u001b[0m\n\u001b[1;32m----> 1\u001b[1;33m \u001b[0mprint_candidate_info\u001b[0m\u001b[1;33m(\u001b[0m\u001b[1;33m)\u001b[0m\u001b[1;33m\u001b[0m\u001b[1;33m\u001b[0m\u001b[0m\n\u001b[0m",
      "\u001b[1;31mTypeError\u001b[0m: print_candidate_info() missing 2 required positional arguments: 'name' and 'age'"
     ]
    }
   ],
   "source": [
    "print_candidate_info()"
   ]
  },
  {
   "cell_type": "markdown",
   "id": "later-snapshot",
   "metadata": {},
   "source": [
    "## Keyword Argument"
   ]
  },
  {
   "cell_type": "code",
   "execution_count": 82,
   "id": "accomplished-cleaning",
   "metadata": {},
   "outputs": [
    {
     "name": "stdout",
     "output_type": "stream",
     "text": [
      "Name of the Candidate: Pro\n",
      "Name of the age: 21\n"
     ]
    }
   ],
   "source": [
    "print_candidate_info(age=21, name=\"Pro\")"
   ]
  },
  {
   "cell_type": "markdown",
   "id": "imperial-papua",
   "metadata": {},
   "source": [
    "## Default Argument"
   ]
  },
  {
   "cell_type": "code",
   "execution_count": 83,
   "id": "electrical-binary",
   "metadata": {},
   "outputs": [],
   "source": [
    "def sum_cube_func(a=2, b=3):\n",
    "    \"\"\"\n",
    "    This function calculates and returns the cube of the given nubers\n",
    "    Input Paramaters: a, b\n",
    "    Default Values: a=2, b=3\n",
    "    \"\"\"\n",
    "    sum_cube = (a**3)+(b**3)\n",
    "    return sum_cube"
   ]
  },
  {
   "cell_type": "code",
   "execution_count": 84,
   "id": "later-validity",
   "metadata": {},
   "outputs": [
    {
     "data": {
      "text/plain": [
       "35"
      ]
     },
     "execution_count": 84,
     "metadata": {},
     "output_type": "execute_result"
    }
   ],
   "source": [
    "sum_cube_func()"
   ]
  },
  {
   "cell_type": "code",
   "execution_count": 85,
   "id": "white-mixer",
   "metadata": {},
   "outputs": [
    {
     "data": {
      "text/plain": [
       "189"
      ]
     },
     "execution_count": 85,
     "metadata": {},
     "output_type": "execute_result"
    }
   ],
   "source": [
    "sum_cube_func(4, 5)"
   ]
  },
  {
   "cell_type": "markdown",
   "id": "indonesian-familiar",
   "metadata": {},
   "source": [
    "## Variable length functions"
   ]
  },
  {
   "cell_type": "code",
   "execution_count": 92,
   "id": "little-needle",
   "metadata": {},
   "outputs": [],
   "source": [
    "def sum_cube_list_func(*args):\n",
    "    \"\"\"\n",
    "    This function calculates and returns the cube of given numbers\n",
    "    Input Paramaters: n number of numbers\n",
    "    \"\"\"\n",
    "    cube_sum = 0\n",
    "    for i in args:\n",
    "        cube_sum += i**3\n",
    "    return cube_sum"
   ]
  },
  {
   "cell_type": "code",
   "execution_count": 93,
   "id": "effective-assault",
   "metadata": {},
   "outputs": [],
   "source": [
    "sum_cube_list_func(1, 2, 3, 4, 5)"
   ]
  },
  {
   "cell_type": "code",
   "execution_count": 94,
   "id": "absolute-saint",
   "metadata": {},
   "outputs": [],
   "source": [
    "sum_cube_list_func(1, 2, 3, 4, 5, 6, 7, 8, 9, 100)"
   ]
  },
  {
   "cell_type": "code",
   "execution_count": 95,
   "id": "humanitarian-practice",
   "metadata": {},
   "outputs": [],
   "source": [
    "sum_cube_list_func(1, 2)"
   ]
  },
  {
   "cell_type": "markdown",
   "id": "exact-turner",
   "metadata": {},
   "source": [
    "## Function to handle the collection as input argument"
   ]
  },
  {
   "cell_type": "code",
   "execution_count": 90,
   "id": "overhead-federal",
   "metadata": {},
   "outputs": [],
   "source": [
    "def print_all_values_list(a = []):\n",
    "    \"\"\"Function to print all the values in the given list\n",
    "    \"\"\"\n",
    "    for i in a:\n",
    "        print(i)"
   ]
  },
  {
   "cell_type": "code",
   "execution_count": 91,
   "id": "funny-mirror",
   "metadata": {},
   "outputs": [
    {
     "name": "stdout",
     "output_type": "stream",
     "text": [
      "apple\n",
      "banana\n",
      "carrot\n",
      "dairy\n"
     ]
    }
   ],
   "source": [
    "print_all_values_list(['apple', 'banana', 'carrot', 'dairy'])"
   ]
  }
 ],
 "metadata": {
  "kernelspec": {
   "display_name": "Python [conda env:py37]",
   "language": "python",
   "name": "conda-env-py37-py"
  },
  "language_info": {
   "codemirror_mode": {
    "name": "ipython",
    "version": 3
   },
   "file_extension": ".py",
   "mimetype": "text/x-python",
   "name": "python",
   "nbconvert_exporter": "python",
   "pygments_lexer": "ipython3",
   "version": "3.7.10"
  }
 },
 "nbformat": 4,
 "nbformat_minor": 5
}
